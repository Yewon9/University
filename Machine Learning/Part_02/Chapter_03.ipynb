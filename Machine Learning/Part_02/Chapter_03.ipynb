{
  "nbformat": 4,
  "nbformat_minor": 0,
  "metadata": {
    "colab": {
      "provenance": [],
      "toc_visible": true
    },
    "kernelspec": {
      "name": "python3",
      "display_name": "Python 3"
    },
    "language_info": {
      "name": "python"
    }
  },
  "cells": [
    {
      "cell_type": "markdown",
      "source": [
        "# Part 02 머신러닝을 위한 파이썬 패키지 - Chapter 03 넘파이"
      ],
      "metadata": {
        "id": "z2Km87vshbsV"
      }
    },
    {
      "cell_type": "markdown",
      "source": [
        "## 03 넘파이 배열 객체 다루기"
      ],
      "metadata": {
        "id": "VrrFMU4CafbH"
      }
    },
    {
      "cell_type": "markdown",
      "source": [
        "### 2 배열의 메모리 구조"
      ],
      "metadata": {
        "id": "drDrVDikakzn"
      }
    },
    {
      "cell_type": "code",
      "source": [
        "import numpy as np\n",
        "test_array = np.array([1, 4, 5, 8], float)\n",
        "test_array"
      ],
      "metadata": {
        "colab": {
          "base_uri": "https://localhost:8080/"
        },
        "id": "bW2xiMtqf4pj",
        "outputId": "eb251d2c-dba8-4f16-fcdc-ddef0dff9dc1"
      },
      "execution_count": 1,
      "outputs": [
        {
          "output_type": "execute_result",
          "data": {
            "text/plain": [
              "array([1., 4., 5., 8.])"
            ]
          },
          "metadata": {},
          "execution_count": 1
        }
      ]
    },
    {
      "cell_type": "code",
      "source": [
        "type(test_array[3])"
      ],
      "metadata": {
        "colab": {
          "base_uri": "https://localhost:8080/"
        },
        "id": "wQq3ImgzhWrN",
        "outputId": "424f6aa6-88b6-4978-b486-4e85b9314946"
      },
      "execution_count": 2,
      "outputs": [
        {
          "output_type": "execute_result",
          "data": {
            "text/plain": [
              "numpy.float64"
            ]
          },
          "metadata": {},
          "execution_count": 2
        }
      ]
    },
    {
      "cell_type": "markdown",
      "source": [
        "### 3 배열의 생성"
      ],
      "metadata": {
        "id": "2KgN_PzUi3H6"
      }
    },
    {
      "cell_type": "code",
      "source": [
        "test_array = np.array([1, 4, 5, \"8\"], float)\n",
        "print(test_array)"
      ],
      "metadata": {
        "colab": {
          "base_uri": "https://localhost:8080/"
        },
        "id": "5-Ger4oiiNmF",
        "outputId": "c3a21771-178b-4291-c3c2-d6a667538fa0"
      },
      "execution_count": 4,
      "outputs": [
        {
          "output_type": "stream",
          "name": "stdout",
          "text": [
            "[1. 4. 5. 8.]\n"
          ]
        }
      ]
    },
    {
      "cell_type": "code",
      "source": [
        "print(type(test_array[3]))     # 실수형(floating Type)으로 자동 형 변환 실시"
      ],
      "metadata": {
        "colab": {
          "base_uri": "https://localhost:8080/"
        },
        "id": "8MA-FZuJi8Pv",
        "outputId": "07dd8033-9c23-4d8b-b2df-74a429bbacdf"
      },
      "execution_count": 5,
      "outputs": [
        {
          "output_type": "stream",
          "name": "stdout",
          "text": [
            "<class 'numpy.float64'>\n"
          ]
        }
      ]
    },
    {
      "cell_type": "code",
      "source": [
        "print(test_array.dtype)     # 배열 전체의 데이터 타입 변환"
      ],
      "metadata": {
        "colab": {
          "base_uri": "https://localhost:8080/"
        },
        "id": "J0viNSAyjG_E",
        "outputId": "dc4f75b3-ad35-4f1a-be06-5411aa9b781b"
      },
      "execution_count": 6,
      "outputs": [
        {
          "output_type": "stream",
          "name": "stdout",
          "text": [
            "float64\n"
          ]
        }
      ]
    },
    {
      "cell_type": "code",
      "source": [
        "print(test_array.shape)     # 배열의 구조(shape)를 반환함"
      ],
      "metadata": {
        "colab": {
          "base_uri": "https://localhost:8080/"
        },
        "id": "93djwqt-jK7b",
        "outputId": "fc25a626-a0d9-4443-8148-2d9680f948fa"
      },
      "execution_count": 7,
      "outputs": [
        {
          "output_type": "stream",
          "name": "stdout",
          "text": [
            "(4,)\n"
          ]
        }
      ]
    },
    {
      "cell_type": "markdown",
      "source": [
        "#### 3.1 배열의 구조(shape)"
      ],
      "metadata": {
        "id": "s-ox-tBjjSn7"
      }
    },
    {
      "cell_type": "code",
      "source": [
        "matrix = [[1, 2, 5, 8], [1, 2, 5, 8], [1, 2, 5, 8]]\n",
        "np.array(matrix, int).shape"
      ],
      "metadata": {
        "colab": {
          "base_uri": "https://localhost:8080/"
        },
        "id": "Y9vd1mlAjQGG",
        "outputId": "fb11dd9e-7186-4449-f35d-706e17dbd553"
      },
      "execution_count": 8,
      "outputs": [
        {
          "output_type": "execute_result",
          "data": {
            "text/plain": [
              "(3, 4)"
            ]
          },
          "metadata": {},
          "execution_count": 8
        }
      ]
    },
    {
      "cell_type": "code",
      "source": [
        "tensor_rank3 = [\n",
        "    [[1, 2, 5, 8], [1, 2, 5, 8], [1, 2, 5, 8]],\n",
        "    [[1, 2, 5, 8], [1, 2, 5, 8], [1, 2, 5, 8]],\n",
        "    [[1, 2, 5, 8], [1, 2, 5, 8], [1, 2, 5, 8]],\n",
        "    [[1, 2, 5, 8], [1, 2, 5, 8], [1, 2, 5, 8]]\n",
        "]\n",
        "np.array(tensor_rank3, int).shape"
      ],
      "metadata": {
        "colab": {
          "base_uri": "https://localhost:8080/"
        },
        "id": "1O_owK4EjeXx",
        "outputId": "942ae767-1710-4f54-9e1b-bed9acd09bd6"
      },
      "execution_count": 9,
      "outputs": [
        {
          "output_type": "execute_result",
          "data": {
            "text/plain": [
              "(4, 3, 4)"
            ]
          },
          "metadata": {},
          "execution_count": 9
        }
      ]
    },
    {
      "cell_type": "code",
      "source": [
        "tensor_rank3 = [\n",
        "    [[1, 2, 5, 8], [1, 2, 5, 8], [1, 2, 5, 8]],\n",
        "    [[1, 2, 5, 8], [1, 2, 5, 8], [1, 2, 5, 8]],\n",
        "    [[1, 2, 5, 8], [1, 2, 5, 8], [1, 2, 5, 8]],\n",
        "    [[1, 2, 5, 8], [1, 2, 5, 8], [1, 2, 5, 8]]\n",
        "]\n",
        "np.array(tensor_rank3, int).ndim"
      ],
      "metadata": {
        "colab": {
          "base_uri": "https://localhost:8080/"
        },
        "id": "WFLO3pwjjqJS",
        "outputId": "02113ddf-124d-4e8e-c1f3-9a919b443fbe"
      },
      "execution_count": 10,
      "outputs": [
        {
          "output_type": "execute_result",
          "data": {
            "text/plain": [
              "3"
            ]
          },
          "metadata": {},
          "execution_count": 10
        }
      ]
    },
    {
      "cell_type": "code",
      "source": [
        "np.array(tensor_rank3, int).size"
      ],
      "metadata": {
        "colab": {
          "base_uri": "https://localhost:8080/"
        },
        "id": "bIhDsvcOj1Ll",
        "outputId": "5574edf1-9b77-4973-d890-76fd0df76ccd"
      },
      "execution_count": 11,
      "outputs": [
        {
          "output_type": "execute_result",
          "data": {
            "text/plain": [
              "48"
            ]
          },
          "metadata": {},
          "execution_count": 11
        }
      ]
    },
    {
      "cell_type": "markdown",
      "source": [
        "#### 3.2 dtype"
      ],
      "metadata": {
        "id": "6mygr0Abj-oD"
      }
    },
    {
      "cell_type": "code",
      "source": [
        "np.array([[1, 2, 3.5], [4, 5, 6.5]], dtype = int)"
      ],
      "metadata": {
        "colab": {
          "base_uri": "https://localhost:8080/"
        },
        "id": "PfsTYjAoj4rO",
        "outputId": "ab95d0d1-28b1-47b3-e57d-f607a727d594"
      },
      "execution_count": 12,
      "outputs": [
        {
          "output_type": "execute_result",
          "data": {
            "text/plain": [
              "array([[1, 2, 3],\n",
              "       [4, 5, 6]])"
            ]
          },
          "metadata": {},
          "execution_count": 12
        }
      ]
    },
    {
      "cell_type": "code",
      "source": [
        "np.array([[1, 2, 3.5], [4, 5, 6.5]], dtype = float)"
      ],
      "metadata": {
        "colab": {
          "base_uri": "https://localhost:8080/"
        },
        "id": "hFn-n1odkINN",
        "outputId": "bc899683-d742-45c8-99c4-fd2300b4ce7d"
      },
      "execution_count": 13,
      "outputs": [
        {
          "output_type": "execute_result",
          "data": {
            "text/plain": [
              "array([[1. , 2. , 3.5],\n",
              "       [4. , 5. , 6.5]])"
            ]
          },
          "metadata": {},
          "execution_count": 13
        }
      ]
    },
    {
      "cell_type": "code",
      "source": [
        "import sys\n",
        "np.array([[1, 2, 3.5], [4, 5, 6.5]], dtype = np.float64).itemsize"
      ],
      "metadata": {
        "colab": {
          "base_uri": "https://localhost:8080/"
        },
        "id": "1gPihhN9kPWo",
        "outputId": "2c1d5479-5f24-48ce-97c0-1f0a09ac5094"
      },
      "execution_count": 14,
      "outputs": [
        {
          "output_type": "execute_result",
          "data": {
            "text/plain": [
              "8"
            ]
          },
          "metadata": {},
          "execution_count": 14
        }
      ]
    },
    {
      "cell_type": "code",
      "source": [
        "np.array([[1, 2, 3.5], [4, 5, 6.5]], dtype = np.float32).itemsize"
      ],
      "metadata": {
        "colab": {
          "base_uri": "https://localhost:8080/"
        },
        "id": "KwAypFalkblp",
        "outputId": "993d4185-5cf0-4a36-ca81-17c24225caef"
      },
      "execution_count": 15,
      "outputs": [
        {
          "output_type": "execute_result",
          "data": {
            "text/plain": [
              "4"
            ]
          },
          "metadata": {},
          "execution_count": 15
        }
      ]
    },
    {
      "cell_type": "markdown",
      "source": [
        "### 4 배열의 구조 다루기"
      ],
      "metadata": {
        "id": "JkuPqc1gkpNk"
      }
    },
    {
      "cell_type": "code",
      "source": [
        "x = np.array([[1, 2, 5, 8], [1, 2, 5, 8]])\n",
        "x.shape"
      ],
      "metadata": {
        "colab": {
          "base_uri": "https://localhost:8080/"
        },
        "id": "8z_WcIuNkiTy",
        "outputId": "dc6ae817-dcf7-4a2b-e772-6fd493ed4bc8"
      },
      "execution_count": 16,
      "outputs": [
        {
          "output_type": "execute_result",
          "data": {
            "text/plain": [
              "(2, 4)"
            ]
          },
          "metadata": {},
          "execution_count": 16
        }
      ]
    },
    {
      "cell_type": "code",
      "source": [
        "x.reshape(-1,)"
      ],
      "metadata": {
        "colab": {
          "base_uri": "https://localhost:8080/"
        },
        "id": "2ti-G9hVkzZk",
        "outputId": "9da0dd3c-fe3a-4e2c-cd0c-13569268b91d"
      },
      "execution_count": 17,
      "outputs": [
        {
          "output_type": "execute_result",
          "data": {
            "text/plain": [
              "array([1, 2, 5, 8, 1, 2, 5, 8])"
            ]
          },
          "metadata": {},
          "execution_count": 17
        }
      ]
    },
    {
      "cell_type": "code",
      "source": [
        "x = np.array(range(8))\n",
        "x"
      ],
      "metadata": {
        "colab": {
          "base_uri": "https://localhost:8080/"
        },
        "id": "BjiCSYRBk1-y",
        "outputId": "3ee875c1-406f-4a4f-89e4-a2265d104eef"
      },
      "execution_count": 18,
      "outputs": [
        {
          "output_type": "execute_result",
          "data": {
            "text/plain": [
              "array([0, 1, 2, 3, 4, 5, 6, 7])"
            ]
          },
          "metadata": {},
          "execution_count": 18
        }
      ]
    },
    {
      "cell_type": "code",
      "source": [
        "x.reshape(2, 2)"
      ],
      "metadata": {
        "colab": {
          "base_uri": "https://localhost:8080/",
          "height": 174
        },
        "id": "LzkUz3gek-13",
        "outputId": "abcb8055-6bfe-4c38-aa2f-c885f59c9020"
      },
      "execution_count": 19,
      "outputs": [
        {
          "output_type": "error",
          "ename": "ValueError",
          "evalue": "ignored",
          "traceback": [
            "\u001b[0;31m---------------------------------------------------------------------------\u001b[0m",
            "\u001b[0;31mValueError\u001b[0m                                Traceback (most recent call last)",
            "\u001b[0;32m<ipython-input-19-deda7a7c8eb3>\u001b[0m in \u001b[0;36m<module>\u001b[0;34m\u001b[0m\n\u001b[0;32m----> 1\u001b[0;31m \u001b[0mx\u001b[0m\u001b[0;34m.\u001b[0m\u001b[0mreshape\u001b[0m\u001b[0;34m(\u001b[0m\u001b[0;36m2\u001b[0m\u001b[0;34m,\u001b[0m \u001b[0;36m2\u001b[0m\u001b[0;34m)\u001b[0m\u001b[0;34m\u001b[0m\u001b[0;34m\u001b[0m\u001b[0m\n\u001b[0m",
            "\u001b[0;31mValueError\u001b[0m: cannot reshape array of size 8 into shape (2,2)"
          ]
        }
      ]
    },
    {
      "cell_type": "code",
      "source": [],
      "metadata": {
        "id": "DZDGlAajlAad"
      },
      "execution_count": null,
      "outputs": []
    }
  ]
}