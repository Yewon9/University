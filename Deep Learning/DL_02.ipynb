{
  "nbformat": 4,
  "nbformat_minor": 0,
  "metadata": {
    "colab": {
      "provenance": [],
      "toc_visible": true
    },
    "kernelspec": {
      "name": "python3",
      "display_name": "Python 3"
    },
    "language_info": {
      "name": "python"
    }
  },
  "cells": [
    {
      "cell_type": "markdown",
      "source": [
        "# 01 인공 신경망 알아보기"
      ],
      "metadata": {
        "id": "mpR8PFK1jrEn"
      }
    },
    {
      "cell_type": "markdown",
      "source": [
        "## TLU의 논리연산 구현"
      ],
      "metadata": {
        "id": "_MlJQ-q8kdF3"
      }
    },
    {
      "cell_type": "markdown",
      "source": [
        "순수 파이썬 이용"
      ],
      "metadata": {
        "id": "AHGOAMOokh3n"
      }
    },
    {
      "cell_type": "code",
      "execution_count": 1,
      "metadata": {
        "id": "rg629wgMjEqX"
      },
      "outputs": [],
      "source": [
        "epsilon = 0.0000001\n",
        "def perceptron (x1, x2):\n",
        "  w1, w2, b = 1.0, 1.0, -1.5\n",
        "  sum = x1 * w1 + x2 * w2 + b\n",
        "  if sum > epsilon:     # 부동소수점 오차를 방지하기 위하여\n",
        "    return 1\n",
        "  else:\n",
        "    return 0"
      ]
    },
    {
      "cell_type": "code",
      "source": [
        "print(perceptron(0, 0))\n",
        "print(perceptron(1, 0))\n",
        "print(perceptron(0, 1))\n",
        "print(perceptron(1, 1))"
      ],
      "metadata": {
        "colab": {
          "base_uri": "https://localhost:8080/"
        },
        "id": "JDcYjmzrjWg5",
        "outputId": "474318a1-682e-4336-e31f-533b24dedb7e"
      },
      "execution_count": 2,
      "outputs": [
        {
          "output_type": "stream",
          "name": "stdout",
          "text": [
            "0\n",
            "0\n",
            "0\n",
            "1\n"
          ]
        }
      ]
    },
    {
      "cell_type": "markdown",
      "source": [
        "numpy 라이브러리 이용"
      ],
      "metadata": {
        "id": "4qpB1Ti3juWP"
      }
    },
    {
      "cell_type": "code",
      "source": [
        "import numpy as np\n",
        "epsilon = 0.0000001\n",
        "def perceptron(x1, x2):\n",
        "  X = np.array([x1, x2])\n",
        "  W = np.array([1.0, 1.0])\n",
        "  B = -1.5\n",
        "  sum = np.dot(W, X) + B\n",
        "  if sum > epsilon:\n",
        "    return 1\n",
        "  else:\n",
        "    return 0"
      ],
      "metadata": {
        "id": "RYsyVl6kjwAp"
      },
      "execution_count": 3,
      "outputs": []
    },
    {
      "cell_type": "code",
      "source": [
        "print(perceptron(0, 0))\n",
        "print(perceptron(1, 0))\n",
        "print(perceptron(0, 1))\n",
        "print(perceptron(1, 1))"
      ],
      "metadata": {
        "colab": {
          "base_uri": "https://localhost:8080/"
        },
        "id": "Up4y70OYkBjH",
        "outputId": "1a509317-f87b-471a-af13-83f9bd0a8990"
      },
      "execution_count": 4,
      "outputs": [
        {
          "output_type": "stream",
          "name": "stdout",
          "text": [
            "0\n",
            "0\n",
            "0\n",
            "1\n"
          ]
        }
      ]
    },
    {
      "cell_type": "markdown",
      "source": [
        "#02 퍼셉트론 이해하기"
      ],
      "metadata": {
        "id": "GfT5o3mxsltY"
      }
    },
    {
      "cell_type": "markdown",
      "source": [
        "##퍼셉트론의 논리연산 구현"
      ],
      "metadata": {
        "id": "-BSMMy0ftHv4"
      }
    },
    {
      "cell_type": "markdown",
      "source": [
        "numpy 라이브러리 이용"
      ],
      "metadata": {
        "id": "X24-6t_BtOPA"
      }
    },
    {
      "cell_type": "code",
      "source": [
        "import numpy as np\n",
        "epsilon = 0.0000001     # 부동소수점 오차 방지\n",
        "def step_func(t):     # 퍼셉트론의 활성화 함수\n",
        "  if t > epsilon: return 1\n",
        "  else: return 0\n",
        "X = np.array([     # 훈련 데이터 세트\n",
        "    [0, 0, 1],     # 맨 끝의 1은 바이어스를 위한 입력 신호 1이다.\n",
        "    [0, 1, 1],     # 맨 끝의 1은 바이어스를 위한 입력 신호 1이다.\n",
        "    [1, 0, 1],     # 맨 끝의 1은 바이어스를 위한 입력 신호 1이다.\n",
        "    [1, 1, 1]     # 맨 끝의 1은 바이어스를 위한 입력 신호 1이다.\n",
        "])"
      ],
      "metadata": {
        "id": "JJgBzHLDsoxJ"
      },
      "execution_count": 5,
      "outputs": []
    },
    {
      "cell_type": "code",
      "source": [
        "y = np.array([0, 0, 0, 1])     # 정답을 저장하는 넘파이 행렬\n",
        "W = np.zeros(len(X[0]))     # 가중치를 저장하는 넘파이 행렬"
      ],
      "metadata": {
        "id": "EcgksAUtunHo"
      },
      "execution_count": 6,
      "outputs": []
    },
    {
      "cell_type": "code",
      "source": [
        "def perceptron_fit(X, Y, epochs = 10):     # 퍼셉트론 학습 알고리즘 구현\n",
        "  global W\n",
        "  eta = 0.2     # 학습률\n",
        "  for t in range(epochs):\n",
        "    print(\"epoch=\", t, \"====================\")\n",
        "    for i in range(len(X)):\n",
        "      predict = step_func(np.dot(X[i], W))\n",
        "      error = Y[i] - predict     # 오차 계산\n",
        "      W += eta * error * X[i]     # 가중치 업데이트\n",
        "      print(\"현재 처리 입력=\", X[i], \"정답=\", Y[i], \"출력=\", predict, \"변경된 가중치=\", W)\n",
        "    print(\"=============================\")"
      ],
      "metadata": {
        "id": "sbLHnqP3uyXq"
      },
      "execution_count": 7,
      "outputs": []
    },
    {
      "cell_type": "code",
      "source": [
        "def perceptron_predict(X, Y):     # 예측\n",
        "  global W\n",
        "  for x in X:\n",
        "    print(x[0], x[1], \"->\", step_func(np.dot(x, W)))"
      ],
      "metadata": {
        "id": "_iMBrzwfvcCo"
      },
      "execution_count": 8,
      "outputs": []
    },
    {
      "cell_type": "code",
      "source": [
        "perceptron_fit(X, y, 6)"
      ],
      "metadata": {
        "colab": {
          "base_uri": "https://localhost:8080/"
        },
        "id": "KJAi64MqvsaA",
        "outputId": "b9c8f833-effa-44d4-e695-bf6afcfa6760"
      },
      "execution_count": 9,
      "outputs": [
        {
          "output_type": "stream",
          "name": "stdout",
          "text": [
            "epoch= 0 ====================\n",
            "현재 처리 입력= [0 0 1] 정답= 0 출력= 0 변경된 가중치= [0. 0. 0.]\n",
            "현재 처리 입력= [0 1 1] 정답= 0 출력= 0 변경된 가중치= [0. 0. 0.]\n",
            "현재 처리 입력= [1 0 1] 정답= 0 출력= 0 변경된 가중치= [0. 0. 0.]\n",
            "현재 처리 입력= [1 1 1] 정답= 1 출력= 0 변경된 가중치= [0.2 0.2 0.2]\n",
            "=============================\n",
            "epoch= 1 ====================\n",
            "현재 처리 입력= [0 0 1] 정답= 0 출력= 1 변경된 가중치= [0.2 0.2 0. ]\n",
            "현재 처리 입력= [0 1 1] 정답= 0 출력= 1 변경된 가중치= [ 0.2  0.  -0.2]\n",
            "현재 처리 입력= [1 0 1] 정답= 0 출력= 0 변경된 가중치= [ 0.2  0.  -0.2]\n",
            "현재 처리 입력= [1 1 1] 정답= 1 출력= 0 변경된 가중치= [0.4 0.2 0. ]\n",
            "=============================\n",
            "epoch= 2 ====================\n",
            "현재 처리 입력= [0 0 1] 정답= 0 출력= 0 변경된 가중치= [0.4 0.2 0. ]\n",
            "현재 처리 입력= [0 1 1] 정답= 0 출력= 1 변경된 가중치= [ 0.4  0.  -0.2]\n",
            "현재 처리 입력= [1 0 1] 정답= 0 출력= 1 변경된 가중치= [ 0.2  0.  -0.4]\n",
            "현재 처리 입력= [1 1 1] 정답= 1 출력= 0 변경된 가중치= [ 0.4  0.2 -0.2]\n",
            "=============================\n",
            "epoch= 3 ====================\n",
            "현재 처리 입력= [0 0 1] 정답= 0 출력= 0 변경된 가중치= [ 0.4  0.2 -0.2]\n",
            "현재 처리 입력= [0 1 1] 정답= 0 출력= 0 변경된 가중치= [ 0.4  0.2 -0.2]\n",
            "현재 처리 입력= [1 0 1] 정답= 0 출력= 1 변경된 가중치= [ 0.2  0.2 -0.4]\n",
            "현재 처리 입력= [1 1 1] 정답= 1 출력= 0 변경된 가중치= [ 0.4  0.4 -0.2]\n",
            "=============================\n",
            "epoch= 4 ====================\n",
            "현재 처리 입력= [0 0 1] 정답= 0 출력= 0 변경된 가중치= [ 0.4  0.4 -0.2]\n",
            "현재 처리 입력= [0 1 1] 정답= 0 출력= 1 변경된 가중치= [ 0.4  0.2 -0.4]\n",
            "현재 처리 입력= [1 0 1] 정답= 0 출력= 0 변경된 가중치= [ 0.4  0.2 -0.4]\n",
            "현재 처리 입력= [1 1 1] 정답= 1 출력= 1 변경된 가중치= [ 0.4  0.2 -0.4]\n",
            "=============================\n",
            "epoch= 5 ====================\n",
            "현재 처리 입력= [0 0 1] 정답= 0 출력= 0 변경된 가중치= [ 0.4  0.2 -0.4]\n",
            "현재 처리 입력= [0 1 1] 정답= 0 출력= 0 변경된 가중치= [ 0.4  0.2 -0.4]\n",
            "현재 처리 입력= [1 0 1] 정답= 0 출력= 0 변경된 가중치= [ 0.4  0.2 -0.4]\n",
            "현재 처리 입력= [1 1 1] 정답= 1 출력= 1 변경된 가중치= [ 0.4  0.2 -0.4]\n",
            "=============================\n"
          ]
        }
      ]
    },
    {
      "cell_type": "code",
      "source": [
        "perceptron_predict(X, y)"
      ],
      "metadata": {
        "colab": {
          "base_uri": "https://localhost:8080/"
        },
        "id": "F8H6lGE-vyOY",
        "outputId": "091c8ce5-e5ed-447d-b54a-593647098dee"
      },
      "execution_count": 10,
      "outputs": [
        {
          "output_type": "stream",
          "name": "stdout",
          "text": [
            "0 0 -> 0\n",
            "0 1 -> 0\n",
            "1 0 -> 0\n",
            "1 1 -> 1\n"
          ]
        }
      ]
    }
  ]
}