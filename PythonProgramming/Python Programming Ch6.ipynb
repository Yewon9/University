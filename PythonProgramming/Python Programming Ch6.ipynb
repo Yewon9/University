{
  "nbformat": 4,
  "nbformat_minor": 0,
  "metadata": {
    "colab": {
      "name": "Python Programming Ch6.ipynb",
      "provenance": [],
      "authorship_tag": "ABX9TyNB0zpPocZ1re/oBkHfqfww",
      "include_colab_link": true
    },
    "kernelspec": {
      "name": "python3",
      "display_name": "Python 3"
    },
    "language_info": {
      "name": "python"
    }
  },
  "cells": [
    {
      "cell_type": "markdown",
      "metadata": {
        "id": "view-in-github",
        "colab_type": "text"
      },
      "source": [
        "<a href=\"https://colab.research.google.com/github/Yewon9/PythonProgramming_SCH/blob/main/Python%20Programming%20Ch6.ipynb\" target=\"_parent\"><img src=\"https://colab.research.google.com/assets/colab-badge.svg\" alt=\"Open In Colab\"/></a>"
      ]
    },
    {
      "cell_type": "markdown",
      "source": [
        "함수"
      ],
      "metadata": {
        "id": "fQVPHDQFRTa7"
      }
    },
    {
      "cell_type": "code",
      "execution_count": 1,
      "metadata": {
        "colab": {
          "base_uri": "https://localhost:8080/"
        },
        "id": "qsNo4OE6REOB",
        "outputId": "8c2463a1-aad3-42e3-9e7a-d9321793f855"
      },
      "outputs": [
        {
          "output_type": "stream",
          "name": "stdout",
          "text": [
            "2\n",
            "4\n",
            "6\n",
            "8\n",
            "10\n",
            "12\n",
            "14\n",
            "16\n",
            "18\n"
          ]
        }
      ],
      "source": [
        "def two_times_table():\n",
        "  for x in range(1, 10):\n",
        "    print(2 * x)\n",
        "\n",
        "two_times_table()"
      ]
    },
    {
      "cell_type": "code",
      "source": [
        "def times_table(num):\n",
        "  for x in range(1, 10):\n",
        "    print(num * x)\n",
        "  \n",
        "times_table(3)"
      ],
      "metadata": {
        "colab": {
          "base_uri": "https://localhost:8080/"
        },
        "id": "pE0HR0elRZQF",
        "outputId": "5fb3cbe9-7ec3-4f7f-8dfa-4f07a3c4e683"
      },
      "execution_count": 2,
      "outputs": [
        {
          "output_type": "stream",
          "name": "stdout",
          "text": [
            "3\n",
            "6\n",
            "9\n",
            "12\n",
            "15\n",
            "18\n",
            "21\n",
            "24\n",
            "27\n"
          ]
        }
      ]
    },
    {
      "cell_type": "code",
      "source": [
        "def summation(a, b):\n",
        "  return a + b\n",
        "\n",
        "r = summation(3, 5)\n",
        "print(r)"
      ],
      "metadata": {
        "colab": {
          "base_uri": "https://localhost:8080/"
        },
        "id": "EHzGU71WRirU",
        "outputId": "e182cae3-2287-4ffa-e594-b9ccc55a3fae"
      },
      "execution_count": 3,
      "outputs": [
        {
          "output_type": "stream",
          "name": "stdout",
          "text": [
            "8\n"
          ]
        }
      ]
    },
    {
      "cell_type": "code",
      "source": [
        "def summation(a, b):\n",
        "  print(a + b)\n",
        "\n",
        "summation(3, 5)"
      ],
      "metadata": {
        "colab": {
          "base_uri": "https://localhost:8080/"
        },
        "id": "rSbnbYSHRnyi",
        "outputId": "a6e0343e-e65f-44cb-b1b0-86340bfc72ca"
      },
      "execution_count": 4,
      "outputs": [
        {
          "output_type": "stream",
          "name": "stdout",
          "text": [
            "8\n"
          ]
        }
      ]
    },
    {
      "cell_type": "code",
      "source": [
        "def times_table(num):\n",
        "  tab = []\n",
        "  for x in range(1, 10):\n",
        "    tab += [num * x]\n",
        "  return tab\n",
        "\n",
        "result = times_table(3)\n",
        "print(result[2])"
      ],
      "metadata": {
        "colab": {
          "base_uri": "https://localhost:8080/"
        },
        "id": "TkKrIWFlRv8B",
        "outputId": "e53f6e04-37b5-479e-bcf9-16a67357b5ed"
      },
      "execution_count": 5,
      "outputs": [
        {
          "output_type": "stream",
          "name": "stdout",
          "text": [
            "9\n"
          ]
        }
      ]
    },
    {
      "cell_type": "code",
      "source": [
        "def times_table(num = 2):\n",
        "  tab = []\n",
        "  for x in range(1, 10):\n",
        "    tab += [num * x]\n",
        "  if num % 2 == 0:\n",
        "    return \"짝수는 안해\"\n",
        "  return tab\n",
        "\n",
        "result = times_table()\n",
        "print(result[2])\n",
        "result = times_table(3)\n",
        "print(result[2])"
      ],
      "metadata": {
        "colab": {
          "base_uri": "https://localhost:8080/"
        },
        "id": "rjy5ajt7R7gy",
        "outputId": "e682720f-e25c-4ebd-a2cd-313ac4b1697d"
      },
      "execution_count": 6,
      "outputs": [
        {
          "output_type": "stream",
          "name": "stdout",
          "text": [
            "는\n",
            "9\n"
          ]
        }
      ]
    },
    {
      "cell_type": "code",
      "source": [
        "def summation(a = 1, b):\n",
        "  return a + b\n",
        "\n",
        "print(summation(3))"
      ],
      "metadata": {
        "colab": {
          "base_uri": "https://localhost:8080/",
          "height": 136
        },
        "id": "e88XuDTJSUFW",
        "outputId": "0841dbf8-c12a-4bac-9c14-019ea7943a0f"
      },
      "execution_count": 7,
      "outputs": [
        {
          "output_type": "error",
          "ename": "SyntaxError",
          "evalue": "ignored",
          "traceback": [
            "\u001b[0;36m  File \u001b[0;32m\"<ipython-input-7-d51b1b971795>\"\u001b[0;36m, line \u001b[0;32m1\u001b[0m\n\u001b[0;31m    def summation(a = 1, b):\u001b[0m\n\u001b[0m                 ^\u001b[0m\n\u001b[0;31mSyntaxError\u001b[0m\u001b[0;31m:\u001b[0m non-default argument follows default argument\n"
          ]
        }
      ]
    },
    {
      "cell_type": "code",
      "source": [
        "def summation(a, b = 1):\n",
        "  return a + b\n",
        "\n",
        "print(summation(3))"
      ],
      "metadata": {
        "colab": {
          "base_uri": "https://localhost:8080/"
        },
        "id": "u2kOxtc5SZ4M",
        "outputId": "649d7e42-e920-4314-8c5b-20ea42856e44"
      },
      "execution_count": 8,
      "outputs": [
        {
          "output_type": "stream",
          "name": "stdout",
          "text": [
            "4\n"
          ]
        }
      ]
    },
    {
      "cell_type": "code",
      "source": [
        "def print_summation(a, b = 1, c = 1):\n",
        "  print((a + b) * c)\n",
        "\n",
        "print_summation(1, 1, 1)\n",
        "print_summation(1)\n",
        "print_summation(1, 3)"
      ],
      "metadata": {
        "colab": {
          "base_uri": "https://localhost:8080/"
        },
        "id": "3KGW6Kd-Slhs",
        "outputId": "5ae9b80e-46ee-4617-88ec-fcf790e36d32"
      },
      "execution_count": 9,
      "outputs": [
        {
          "output_type": "stream",
          "name": "stdout",
          "text": [
            "2\n",
            "2\n",
            "4\n"
          ]
        }
      ]
    },
    {
      "cell_type": "code",
      "source": [
        "def summation(a = 2, b = 1):\n",
        "  return a + b\n",
        "\n",
        "print(summation())\n",
        "print(summation(3))\n",
        "print(summation(b = 3))"
      ],
      "metadata": {
        "colab": {
          "base_uri": "https://localhost:8080/"
        },
        "id": "6nrLs1DISwCV",
        "outputId": "9237f357-813a-40a5-d56c-1e75b10c7905"
      },
      "execution_count": 10,
      "outputs": [
        {
          "output_type": "stream",
          "name": "stdout",
          "text": [
            "3\n",
            "4\n",
            "5\n"
          ]
        }
      ]
    },
    {
      "cell_type": "markdown",
      "source": [
        "함수 콜, 리턴값 개념 정리"
      ],
      "metadata": {
        "id": "9g4-S4_pS5zZ"
      }
    },
    {
      "cell_type": "code",
      "source": [
        "def getSum(a, b):\n",
        "  return a + b\n",
        "\n",
        "getSum(3, 5)\n",
        "print(getSum(3, 5))"
      ],
      "metadata": {
        "colab": {
          "base_uri": "https://localhost:8080/"
        },
        "id": "y_Nv0UnqS3QX",
        "outputId": "eed1c9cb-538c-47e6-e156-8acae00020ae"
      },
      "execution_count": 11,
      "outputs": [
        {
          "output_type": "stream",
          "name": "stdout",
          "text": [
            "8\n"
          ]
        }
      ]
    },
    {
      "cell_type": "code",
      "source": [
        "def printSum(a, b):\n",
        "  print(a + b)\n",
        "\n",
        "printSum(2, 3)\n",
        "k = printSum(2, 3)\n",
        "print(k)"
      ],
      "metadata": {
        "colab": {
          "base_uri": "https://localhost:8080/"
        },
        "id": "irqaiOmsTBjD",
        "outputId": "a6489e70-b000-472d-f759-06fb2923dbd3"
      },
      "execution_count": 12,
      "outputs": [
        {
          "output_type": "stream",
          "name": "stdout",
          "text": [
            "5\n",
            "5\n",
            "None\n"
          ]
        }
      ]
    },
    {
      "cell_type": "markdown",
      "source": [
        "내장 함수들"
      ],
      "metadata": {
        "id": "MgFPWtCXTOvc"
      }
    },
    {
      "cell_type": "code",
      "source": [
        "a = input()\n",
        "a\n",
        "a = input()\n",
        "a\n",
        "a = input('나이 입력 :')\n",
        "a\n",
        "a = input()\n",
        "a"
      ],
      "metadata": {
        "colab": {
          "base_uri": "https://localhost:8080/",
          "height": 108
        },
        "id": "iDrLqpPXTG3B",
        "outputId": "85fad2b7-1832-4c40-9c27-ec917a1b594c"
      },
      "execution_count": 13,
      "outputs": [
        {
          "name": "stdout",
          "output_type": "stream",
          "text": [
            "파이썬 안녕\n",
            "123\n",
            "나이 입력 :30\n",
            "\n"
          ]
        },
        {
          "output_type": "execute_result",
          "data": {
            "text/plain": [
              "''"
            ],
            "application/vnd.google.colaboratory.intrinsic+json": {
              "type": "string"
            }
          },
          "metadata": {},
          "execution_count": 13
        }
      ]
    },
    {
      "cell_type": "code",
      "source": [
        "a = 123\n",
        "print(a)\n",
        "a = '123'\n",
        "a     #'123'\n",
        "print(a)\n",
        "a = [1, 2, 3]\n",
        "print(a)\n",
        "print('파이썬', '좋아', 123)\n",
        "print('파이썬', '좋아', end = 'END')"
      ],
      "metadata": {
        "colab": {
          "base_uri": "https://localhost:8080/"
        },
        "id": "xKeXaOxGTb1m",
        "outputId": "a04cd26a-e605-404e-e7c0-19de603d1271"
      },
      "execution_count": 15,
      "outputs": [
        {
          "output_type": "stream",
          "name": "stdout",
          "text": [
            "123\n",
            "123\n",
            "[1, 2, 3]\n",
            "파이썬 좋아 123\n",
            "파이썬 좋아END"
          ]
        }
      ]
    },
    {
      "cell_type": "code",
      "source": [
        "a = \"happy\"\n",
        "a.count('a')     #1\n",
        "a.find('p')     #2\n",
        "a.find('')     #0\n",
        "a.find('z')     #-1\n",
        "a.index('p')     #2\n",
        "print(a)\n",
        "a.index('z')     #ValueError\n",
        "a = ','\n",
        "a.join('happy')     #'h,a,p,p,y'\n",
        "' '.join('happy')     #'h a p p y'"
      ],
      "metadata": {
        "colab": {
          "base_uri": "https://localhost:8080/",
          "height": 263
        },
        "id": "SLOcH4JTTp_-",
        "outputId": "31b40adf-563f-4793-cf09-c6fe8e206009"
      },
      "execution_count": 17,
      "outputs": [
        {
          "output_type": "stream",
          "name": "stdout",
          "text": [
            "happy\n"
          ]
        },
        {
          "output_type": "error",
          "ename": "ValueError",
          "evalue": "ignored",
          "traceback": [
            "\u001b[0;31m---------------------------------------------------------------------------\u001b[0m",
            "\u001b[0;31mValueError\u001b[0m                                Traceback (most recent call last)",
            "\u001b[0;32m<ipython-input-17-8f5ab49e036a>\u001b[0m in \u001b[0;36m<module>\u001b[0;34m()\u001b[0m\n\u001b[1;32m      6\u001b[0m \u001b[0ma\u001b[0m\u001b[0;34m.\u001b[0m\u001b[0mindex\u001b[0m\u001b[0;34m(\u001b[0m\u001b[0;34m'p'\u001b[0m\u001b[0;34m)\u001b[0m     \u001b[0;31m#2\u001b[0m\u001b[0;34m\u001b[0m\u001b[0;34m\u001b[0m\u001b[0m\n\u001b[1;32m      7\u001b[0m \u001b[0mprint\u001b[0m\u001b[0;34m(\u001b[0m\u001b[0ma\u001b[0m\u001b[0;34m)\u001b[0m\u001b[0;34m\u001b[0m\u001b[0;34m\u001b[0m\u001b[0m\n\u001b[0;32m----> 8\u001b[0;31m \u001b[0ma\u001b[0m\u001b[0;34m.\u001b[0m\u001b[0mindex\u001b[0m\u001b[0;34m(\u001b[0m\u001b[0;34m'z'\u001b[0m\u001b[0;34m)\u001b[0m     \u001b[0;31m#Error\u001b[0m\u001b[0;34m\u001b[0m\u001b[0;34m\u001b[0m\u001b[0m\n\u001b[0m\u001b[1;32m      9\u001b[0m \u001b[0ma\u001b[0m \u001b[0;34m=\u001b[0m \u001b[0;34m','\u001b[0m\u001b[0;34m\u001b[0m\u001b[0;34m\u001b[0m\u001b[0m\n\u001b[1;32m     10\u001b[0m \u001b[0ma\u001b[0m\u001b[0;34m.\u001b[0m\u001b[0mjoin\u001b[0m\u001b[0;34m(\u001b[0m\u001b[0;34m'happy'\u001b[0m\u001b[0;34m)\u001b[0m     \u001b[0;31m#'h,a,p,p,y'\u001b[0m\u001b[0;34m\u001b[0m\u001b[0;34m\u001b[0m\u001b[0m\n",
            "\u001b[0;31mValueError\u001b[0m: substring not found"
          ]
        }
      ]
    },
    {
      "cell_type": "code",
      "source": [
        "a = \"happy\"\n",
        "a.upper()     #'HAPPY'\n",
        "'HAPPY'.lower()     #'happy'\n",
        "a = '  happy  '\n",
        "a.lstrip()     #'happy  '\n",
        "a.rstrip()     #'  happy'\n",
        "a.strip()     #'happy'\n",
        "a.replace('p', 'b')     #'habby'\n",
        "a = \"hey hey\"\n",
        "a.split()     #['hey', 'hey']\n",
        "a.split('e')     #['h', 'y h', 'y']"
      ],
      "metadata": {
        "colab": {
          "base_uri": "https://localhost:8080/"
        },
        "id": "GCBxsgfGT_sV",
        "outputId": "7c0b71d4-b129-4ebe-e800-6d136567599d"
      },
      "execution_count": 20,
      "outputs": [
        {
          "output_type": "execute_result",
          "data": {
            "text/plain": [
              "['h', 'y h', 'y']"
            ]
          },
          "metadata": {},
          "execution_count": 20
        }
      ]
    },
    {
      "cell_type": "code",
      "source": [
        "\"파이썬 {} 최고\".format(3)     #'파이썬 3 최고'\n",
        "\"{{파이썬}} {}와 {}은 다르다\".format(2, 3)     #'{파이썬} 2와 3은 다르다'\n",
        "\"파이썬 {1}과 {0}는 다르다\".format(2, 3)     #'파이썬 3과 2는 다르다'\n",
        "\"파이썬 {number3}과 {number2}는 다르다\".format(number2 = 2, number3 = 3)     #'파이썬 3과 2는 다르다'\n",
        "\"{0:<10}!\".format(\"안녕\")     #'안녕        !'\n",
        "\"{0:>10}!\".format(\"안녕\")     #'        안녕!'\n",
        "\"{0:^10}!\".format(\"안녕\")     #'    안녕    !'\n",
        "\"{0:*^10}!\".format(\"안녕\")     #'****안녕****!'\n",
        "pi = 3.141592\n",
        "\"{0}\".format(pi)     #'3.141592'\n",
        "\"{0:0.4}\".format(pi)     #'3.141'\n",
        "\"{0:0.4f}\".format(pi)     #'3.1415'"
      ],
      "metadata": {
        "colab": {
          "base_uri": "https://localhost:8080/",
          "height": 35
        },
        "id": "n3JeQm5HUwk5",
        "outputId": "2e032c61-8cf2-4523-e495-66b01d3cdc23"
      },
      "execution_count": 23,
      "outputs": [
        {
          "output_type": "execute_result",
          "data": {
            "text/plain": [
              "'3.1416'"
            ],
            "application/vnd.google.colaboratory.intrinsic+json": {
              "type": "string"
            }
          },
          "metadata": {},
          "execution_count": 23
        }
      ]
    },
    {
      "cell_type": "code",
      "source": [
        "a = [1, 4, 3]\n",
        "a.append(2)     #a = [1, 4, 3, 2]\n",
        "a.sort()     #a = [1, 2, 3, 4]\n",
        "a = ['cc', 'b', 'c']\n",
        "a.sort()     #a = ['b', 'c', 'cc']\n",
        "a.reverse()     #a = ['cc', 'c', 'b']\n",
        "a.index('c')     #1\n",
        "a.index('aa')     #ValueError\n",
        "a.insert(0, 'ccc')     #a = ['ccc', 'cc', 'c', 'b']\n",
        "a.insert(1, 'b')     #a = ['ccc', 'b', 'cc', 'c', 'b']\n",
        "a.remove('b')     #a = ['ccc', 'cc', 'c', 'b']"
      ],
      "metadata": {
        "colab": {
          "base_uri": "https://localhost:8080/",
          "height": 245
        },
        "id": "9cq5f4AhZE3z",
        "outputId": "0424cdc4-de02-4495-cd4f-3fbab837d7cf"
      },
      "execution_count": 25,
      "outputs": [
        {
          "output_type": "error",
          "ename": "ValueError",
          "evalue": "ignored",
          "traceback": [
            "\u001b[0;31m---------------------------------------------------------------------------\u001b[0m",
            "\u001b[0;31mValueError\u001b[0m                                Traceback (most recent call last)",
            "\u001b[0;32m<ipython-input-25-c2b8ff536baa>\u001b[0m in \u001b[0;36m<module>\u001b[0;34m()\u001b[0m\n\u001b[1;32m      6\u001b[0m \u001b[0ma\u001b[0m\u001b[0;34m.\u001b[0m\u001b[0mreverse\u001b[0m\u001b[0;34m(\u001b[0m\u001b[0;34m)\u001b[0m     \u001b[0;31m#a = ['cc', 'c', 'b']\u001b[0m\u001b[0;34m\u001b[0m\u001b[0;34m\u001b[0m\u001b[0m\n\u001b[1;32m      7\u001b[0m \u001b[0ma\u001b[0m\u001b[0;34m.\u001b[0m\u001b[0mindex\u001b[0m\u001b[0;34m(\u001b[0m\u001b[0;34m'c'\u001b[0m\u001b[0;34m)\u001b[0m     \u001b[0;31m#1\u001b[0m\u001b[0;34m\u001b[0m\u001b[0;34m\u001b[0m\u001b[0m\n\u001b[0;32m----> 8\u001b[0;31m \u001b[0ma\u001b[0m\u001b[0;34m.\u001b[0m\u001b[0mindex\u001b[0m\u001b[0;34m(\u001b[0m\u001b[0;34m'aa'\u001b[0m\u001b[0;34m)\u001b[0m     \u001b[0;31m#ValueError\u001b[0m\u001b[0;34m\u001b[0m\u001b[0;34m\u001b[0m\u001b[0m\n\u001b[0m\u001b[1;32m      9\u001b[0m \u001b[0ma\u001b[0m\u001b[0;34m.\u001b[0m\u001b[0minsert\u001b[0m\u001b[0;34m(\u001b[0m\u001b[0;36m0\u001b[0m\u001b[0;34m,\u001b[0m \u001b[0;34m'ccc'\u001b[0m\u001b[0;34m)\u001b[0m     \u001b[0;31m#a = ['ccc', 'cc', 'c', 'b']\u001b[0m\u001b[0;34m\u001b[0m\u001b[0;34m\u001b[0m\u001b[0m\n\u001b[1;32m     10\u001b[0m \u001b[0ma\u001b[0m\u001b[0;34m.\u001b[0m\u001b[0minsert\u001b[0m\u001b[0;34m(\u001b[0m\u001b[0;36m1\u001b[0m\u001b[0;34m,\u001b[0m \u001b[0;34m'b'\u001b[0m\u001b[0;34m)\u001b[0m     \u001b[0;31m#a = ['ccc', 'b', 'cc', 'c', 'b']\u001b[0m\u001b[0;34m\u001b[0m\u001b[0;34m\u001b[0m\u001b[0m\n",
            "\u001b[0;31mValueError\u001b[0m: 'aa' is not in list"
          ]
        }
      ]
    },
    {
      "cell_type": "code",
      "source": [
        "a.remove('a')     #ValueError\n",
        "a.pop()     #'b'\n",
        "a     #['ccc', 'cc', 'c']\n",
        "a.pop(1)     #'cc'\n",
        "a     #['ccc', 'c']\n",
        "a.count('c')     #1\n",
        "a.extend(['aaa', 'a'])     #a = ['ccc', 'c', 'aaa', 'a']\n",
        "len(a)     #4\n",
        "a = []\n",
        "a.pop()     #IndexError"
      ],
      "metadata": {
        "colab": {
          "base_uri": "https://localhost:8080/",
          "height": 245
        },
        "id": "PB5MmtWhaZZg",
        "outputId": "a9d17322-d545-4584-b026-27f6141db924"
      },
      "execution_count": 28,
      "outputs": [
        {
          "output_type": "error",
          "ename": "ValueError",
          "evalue": "ignored",
          "traceback": [
            "\u001b[0;31m---------------------------------------------------------------------------\u001b[0m",
            "\u001b[0;31mValueError\u001b[0m                                Traceback (most recent call last)",
            "\u001b[0;32m<ipython-input-28-55323f725ee3>\u001b[0m in \u001b[0;36m<module>\u001b[0;34m()\u001b[0m\n\u001b[0;32m----> 1\u001b[0;31m \u001b[0ma\u001b[0m\u001b[0;34m.\u001b[0m\u001b[0mremove\u001b[0m\u001b[0;34m(\u001b[0m\u001b[0;34m'a'\u001b[0m\u001b[0;34m)\u001b[0m     \u001b[0;31m#ValueError\u001b[0m\u001b[0;34m\u001b[0m\u001b[0;34m\u001b[0m\u001b[0m\n\u001b[0m\u001b[1;32m      2\u001b[0m \u001b[0ma\u001b[0m\u001b[0;34m.\u001b[0m\u001b[0mpop\u001b[0m\u001b[0;34m(\u001b[0m\u001b[0;34m)\u001b[0m     \u001b[0;31m#'b'\u001b[0m\u001b[0;34m\u001b[0m\u001b[0;34m\u001b[0m\u001b[0m\n\u001b[1;32m      3\u001b[0m \u001b[0ma\u001b[0m     \u001b[0;31m#['ccc', 'cc', 'c']\u001b[0m\u001b[0;34m\u001b[0m\u001b[0;34m\u001b[0m\u001b[0m\n\u001b[1;32m      4\u001b[0m \u001b[0ma\u001b[0m\u001b[0;34m.\u001b[0m\u001b[0mpop\u001b[0m\u001b[0;34m(\u001b[0m\u001b[0;36m1\u001b[0m\u001b[0;34m)\u001b[0m     \u001b[0;31m#'cc'\u001b[0m\u001b[0;34m\u001b[0m\u001b[0;34m\u001b[0m\u001b[0m\n\u001b[1;32m      5\u001b[0m \u001b[0ma\u001b[0m     \u001b[0;31m#['ccc', 'c']\u001b[0m\u001b[0;34m\u001b[0m\u001b[0;34m\u001b[0m\u001b[0m\n",
            "\u001b[0;31mValueError\u001b[0m: list.remove(x): x not in list"
          ]
        }
      ]
    },
    {
      "cell_type": "code",
      "source": [
        "abs(1)     #1\n",
        "abs(-5)     #5\n",
        "enumerate(['I', 'like', 'you'])\n",
        "for num, world in enumerate(['I', 'like', 'you']):\n",
        "  print(num, world)\n",
        "int('3')     #3\n",
        "int(3.1415)     #3\n",
        "int('11', 2)     #3"
      ],
      "metadata": {
        "colab": {
          "base_uri": "https://localhost:8080/"
        },
        "id": "sOWg2kT4ax5r",
        "outputId": "c3496609-fca7-471e-8d96-6ec51efb114d"
      },
      "execution_count": 30,
      "outputs": [
        {
          "output_type": "stream",
          "name": "stdout",
          "text": [
            "0 I\n",
            "1 like\n",
            "2 you\n"
          ]
        },
        {
          "output_type": "execute_result",
          "data": {
            "text/plain": [
              "3"
            ]
          },
          "metadata": {},
          "execution_count": 30
        }
      ]
    },
    {
      "cell_type": "code",
      "source": [
        "hex(16)     #'0x10'\n",
        "oct(16)     #'0o20'\n",
        "pow(2, 3)     #8\n",
        "list(range(5))     #[0, 1, 2, 3, 4]\n",
        "list(range(1, 5))     #[1, 2, 3, 4]\n",
        "list(range(1, 5, 2))     #[1, 3]\n",
        "divmod(7, 3)     #(2, 1)\n",
        "divmod(7.1, 3)     #(2.0, 1.0999999999999996)"
      ],
      "metadata": {
        "colab": {
          "base_uri": "https://localhost:8080/"
        },
        "id": "zRhSg_39bNiC",
        "outputId": "f0c109c0-1986-4063-cf81-cb00b0db7559"
      },
      "execution_count": 34,
      "outputs": [
        {
          "output_type": "execute_result",
          "data": {
            "text/plain": [
              "(2.0, 1.0999999999999996)"
            ]
          },
          "metadata": {},
          "execution_count": 34
        }
      ]
    },
    {
      "cell_type": "code",
      "source": [
        "def sum(a, b): return a + b\n",
        "sum(1, 3)"
      ],
      "metadata": {
        "colab": {
          "base_uri": "https://localhost:8080/"
        },
        "id": "IMUHHrQHbsHq",
        "outputId": "7a558b6b-9471-47b5-b9c8-705bba3e793f"
      },
      "execution_count": 35,
      "outputs": [
        {
          "output_type": "execute_result",
          "data": {
            "text/plain": [
              "4"
            ]
          },
          "metadata": {},
          "execution_count": 35
        }
      ]
    },
    {
      "cell_type": "code",
      "source": [
        "sum = lambda a, b: a + b\n",
        "sum(1, 3)"
      ],
      "metadata": {
        "colab": {
          "base_uri": "https://localhost:8080/"
        },
        "id": "jABNvz5Tb0ZW",
        "outputId": "c0ac9708-bc85-48b6-92a3-edd6d07d8161"
      },
      "execution_count": 36,
      "outputs": [
        {
          "output_type": "execute_result",
          "data": {
            "text/plain": [
              "4"
            ]
          },
          "metadata": {},
          "execution_count": 36
        }
      ]
    },
    {
      "cell_type": "code",
      "source": [
        "def sum(a, b): return a + b\n",
        "lamsum = lambda a, b: a + b\n",
        "a = [lamsum, lamsum, sum, sum]\n",
        "a[0]     #<function<lambda> at 0x7f7005bf3c80>\n",
        "a[1]     #<function<lambda> at 0x7f7005bf3c80>\n",
        "a[2]     #<function sum at 0x7f7005c47bf8>\n",
        "a[3]     #<function sum at 0x7f7005c47bf8>\n",
        "a[0](3, 5)     #8\n",
        "a[3](5, -1)     #4"
      ],
      "metadata": {
        "colab": {
          "base_uri": "https://localhost:8080/"
        },
        "id": "MRVuQWtjb3nw",
        "outputId": "4a27acb7-aa95-49fd-83b8-1b68777045d8"
      },
      "execution_count": 38,
      "outputs": [
        {
          "output_type": "execute_result",
          "data": {
            "text/plain": [
              "4"
            ]
          },
          "metadata": {},
          "execution_count": 38
        }
      ]
    },
    {
      "cell_type": "code",
      "source": [
        "all([1, 2, \"bed\"])     #True\n",
        "all([-5, (), 30])     #False\n",
        "any([0, \"\"])     #False\n",
        "any([-5, (), 30])     #True\n",
        "chr(97)     #'a'\n",
        "ord('a')     #97\n",
        "len(\"abc\")     #3\n",
        "len([1, 2, 3])     #3\n",
        "max([1, 2, 3, 5])     #5\n",
        "max(\"python\")     #'y'"
      ],
      "metadata": {
        "colab": {
          "base_uri": "https://localhost:8080/",
          "height": 35
        },
        "id": "n3wAbNQIcBBG",
        "outputId": "15311312-e131-47ca-8611-fd7801dcf298"
      },
      "execution_count": 39,
      "outputs": [
        {
          "output_type": "execute_result",
          "data": {
            "text/plain": [
              "'y'"
            ],
            "application/vnd.google.colaboratory.intrinsic+json": {
              "type": "string"
            }
          },
          "metadata": {},
          "execution_count": 39
        }
      ]
    },
    {
      "cell_type": "code",
      "source": [
        "min([1, 2, 3, 5])     #1\n",
        "min(\"python\")     #'h'\n",
        "str(5)     #'5'\n",
        "str('py')     #'py'\n",
        "tuple([1, 2])     #(1, 2)\n",
        "eval('1 + 2')     #3\n",
        "eval('\"hi\" + \"python\"')     #hipython\n",
        "eval('len(\"ab\")')     #2"
      ],
      "metadata": {
        "colab": {
          "base_uri": "https://localhost:8080/"
        },
        "id": "zB6jPs52c9YW",
        "outputId": "d2abb9ff-3a6d-4ac1-edef-b14e24840ec2"
      },
      "execution_count": 41,
      "outputs": [
        {
          "output_type": "execute_result",
          "data": {
            "text/plain": [
              "2"
            ]
          },
          "metadata": {},
          "execution_count": 41
        }
      ]
    },
    {
      "cell_type": "markdown",
      "source": [
        "디버깅 : pdb"
      ],
      "metadata": {
        "id": "Da3gPM0tdRRL"
      }
    },
    {
      "cell_type": "code",
      "source": [
        "nums = [1, 2, \"3\"]\n",
        "for x in nums:\n",
        "  print(x + 2)"
      ],
      "metadata": {
        "colab": {
          "base_uri": "https://localhost:8080/",
          "height": 245
        },
        "id": "HsSkOVaIdSf_",
        "outputId": "e893da5b-a070-41db-d1b8-8341404b3ae7"
      },
      "execution_count": 42,
      "outputs": [
        {
          "output_type": "stream",
          "name": "stdout",
          "text": [
            "3\n",
            "4\n"
          ]
        },
        {
          "output_type": "error",
          "ename": "TypeError",
          "evalue": "ignored",
          "traceback": [
            "\u001b[0;31m---------------------------------------------------------------------------\u001b[0m",
            "\u001b[0;31mTypeError\u001b[0m                                 Traceback (most recent call last)",
            "\u001b[0;32m<ipython-input-42-89a3d8ec32c0>\u001b[0m in \u001b[0;36m<module>\u001b[0;34m()\u001b[0m\n\u001b[1;32m      1\u001b[0m \u001b[0mnums\u001b[0m \u001b[0;34m=\u001b[0m \u001b[0;34m[\u001b[0m\u001b[0;36m1\u001b[0m\u001b[0;34m,\u001b[0m \u001b[0;36m2\u001b[0m\u001b[0;34m,\u001b[0m \u001b[0;34m\"3\"\u001b[0m\u001b[0;34m]\u001b[0m\u001b[0;34m\u001b[0m\u001b[0;34m\u001b[0m\u001b[0m\n\u001b[1;32m      2\u001b[0m \u001b[0;32mfor\u001b[0m \u001b[0mx\u001b[0m \u001b[0;32min\u001b[0m \u001b[0mnums\u001b[0m\u001b[0;34m:\u001b[0m\u001b[0;34m\u001b[0m\u001b[0;34m\u001b[0m\u001b[0m\n\u001b[0;32m----> 3\u001b[0;31m   \u001b[0mprint\u001b[0m\u001b[0;34m(\u001b[0m\u001b[0mx\u001b[0m \u001b[0;34m+\u001b[0m \u001b[0;36m2\u001b[0m\u001b[0;34m)\u001b[0m\u001b[0;34m\u001b[0m\u001b[0;34m\u001b[0m\u001b[0m\n\u001b[0m",
            "\u001b[0;31mTypeError\u001b[0m: can only concatenate str (not \"int\") to str"
          ]
        }
      ]
    },
    {
      "cell_type": "code",
      "source": [
        "import pdb\n",
        "nums = [1, 2, \"3\"]\n",
        "for x in nums:\n",
        "  pdb.set_trace()\n",
        "  print(x + 2)"
      ],
      "metadata": {
        "colab": {
          "base_uri": "https://localhost:8080/"
        },
        "id": "S-aVjRYedWNK",
        "outputId": "0ccc427c-4312-4b1b-fa98-3bf49756ed16"
      },
      "execution_count": null,
      "outputs": [
        {
          "output_type": "stream",
          "name": "stderr",
          "text": [
            "\n",
            "PYDEV DEBUGGER WARNING:\n",
            "sys.settrace() should not be used when the debugger is being used.\n",
            "This may cause the debugger to stop working correctly.\n",
            "If this is needed, please check: \n",
            "http://pydev.blogspot.com/2007/06/why-cant-pydev-debugger-work-with.html\n",
            "to see how to restore the debug tracing back correctly.\n",
            "Call Location:\n",
            "  File \"/usr/lib/python3.7/bdb.py\", line 332, in set_trace\n",
            "    sys.settrace(self.trace_dispatch)\n",
            "\n"
          ]
        },
        {
          "output_type": "stream",
          "name": "stdout",
          "text": [
            "> <ipython-input-43-826023f29a66>(5)<module>()\n",
            "-> print(x + 2)\n",
            "--KeyboardInterrupt--\n",
            "--KeyboardInterrupt--\n"
          ]
        }
      ]
    }
  ]
}