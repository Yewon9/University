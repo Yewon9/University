{
  "nbformat": 4,
  "nbformat_minor": 0,
  "metadata": {
    "colab": {
      "name": "Python Programming Ch2.ipynb",
      "provenance": [],
      "authorship_tag": "ABX9TyMN63UWJIOZGyaMugJHXvYV",
      "include_colab_link": true
    },
    "kernelspec": {
      "name": "python3",
      "display_name": "Python 3"
    },
    "language_info": {
      "name": "python"
    }
  },
  "cells": [
    {
      "cell_type": "markdown",
      "metadata": {
        "id": "view-in-github",
        "colab_type": "text"
      },
      "source": [
        "<a href=\"https://colab.research.google.com/github/Yewon9/PythonProgramming_SCH/blob/main/Python_Programming_Ch2.ipynb\" target=\"_parent\"><img src=\"https://colab.research.google.com/assets/colab-badge.svg\" alt=\"Open In Colab\"/></a>"
      ]
    },
    {
      "cell_type": "markdown",
      "source": [
        "Data Type (자료형) : 숫자"
      ],
      "metadata": {
        "id": "xSMRJ-ZKd7W9"
      }
    },
    {
      "cell_type": "code",
      "source": [
        "a = 123\n",
        "a = 0\n",
        "a = -3.45\n",
        "a = 0x10"
      ],
      "metadata": {
        "id": "blL8fcTueAy_"
      },
      "execution_count": 30,
      "outputs": []
    },
    {
      "cell_type": "code",
      "source": [
        "a = 3 + 4     #a = 7\n",
        "b = 1 * 0     #b = 0\n",
        "c = 0 - 1     #c = -1\n",
        "d = 3 / 4     #d = 0.75\n",
        "e = 10 / 0     #ZeroDivisionError\n",
        "f = a * c     #f = -7"
      ],
      "metadata": {
        "colab": {
          "base_uri": "https://localhost:8080/",
          "height": 227
        },
        "id": "tLHDWRLReEdj",
        "outputId": "dbbbd942-4571-462d-8769-6723cb6670b6"
      },
      "execution_count": 31,
      "outputs": [
        {
          "output_type": "error",
          "ename": "ZeroDivisionError",
          "evalue": "ignored",
          "traceback": [
            "\u001b[0;31m---------------------------------------------------------------------------\u001b[0m",
            "\u001b[0;31mZeroDivisionError\u001b[0m                         Traceback (most recent call last)",
            "\u001b[0;32m<ipython-input-31-e99735e62b6a>\u001b[0m in \u001b[0;36m<module>\u001b[0;34m()\u001b[0m\n\u001b[1;32m      3\u001b[0m \u001b[0mc\u001b[0m \u001b[0;34m=\u001b[0m \u001b[0;36m0\u001b[0m \u001b[0;34m-\u001b[0m \u001b[0;36m1\u001b[0m     \u001b[0;31m#c = -1\u001b[0m\u001b[0;34m\u001b[0m\u001b[0;34m\u001b[0m\u001b[0m\n\u001b[1;32m      4\u001b[0m \u001b[0md\u001b[0m \u001b[0;34m=\u001b[0m \u001b[0;36m3\u001b[0m \u001b[0;34m/\u001b[0m \u001b[0;36m4\u001b[0m     \u001b[0;31m#d = 0.75\u001b[0m\u001b[0;34m\u001b[0m\u001b[0;34m\u001b[0m\u001b[0m\n\u001b[0;32m----> 5\u001b[0;31m \u001b[0me\u001b[0m \u001b[0;34m=\u001b[0m \u001b[0;36m10\u001b[0m \u001b[0;34m/\u001b[0m \u001b[0;36m0\u001b[0m     \u001b[0;31m#ZeroDivisionError\u001b[0m\u001b[0;34m\u001b[0m\u001b[0;34m\u001b[0m\u001b[0m\n\u001b[0m\u001b[1;32m      6\u001b[0m \u001b[0mf\u001b[0m \u001b[0;34m=\u001b[0m \u001b[0ma\u001b[0m \u001b[0;34m*\u001b[0m \u001b[0mc\u001b[0m     \u001b[0;31m#f = -7\u001b[0m\u001b[0;34m\u001b[0m\u001b[0;34m\u001b[0m\u001b[0m\n",
            "\u001b[0;31mZeroDivisionError\u001b[0m: division by zero"
          ]
        }
      ]
    },
    {
      "cell_type": "code",
      "source": [
        "a = 3\n",
        "b = -1\n",
        "c = a + b     #c = 2\n",
        "d = a * c     #d = 6"
      ],
      "metadata": {
        "id": "8Qep761GeQpF"
      },
      "execution_count": 32,
      "outputs": []
    },
    {
      "cell_type": "code",
      "source": [
        "a = 3\n",
        "b = -1.0\n",
        "c = a + b     #c = 2.0\n",
        "d = a * c     #d = 6.0"
      ],
      "metadata": {
        "id": "NPos15GrebQY"
      },
      "execution_count": 33,
      "outputs": []
    },
    {
      "cell_type": "code",
      "source": [
        "a = 3 ** 2     #a = 9\n",
        "b = 8 % 3     #b = 2\n",
        "c = 3 % 8     #c = 3\n",
        "d = 9 // 4     #d = 2\n",
        "e = 1 // 4     #e = 0"
      ],
      "metadata": {
        "id": "q2OOIbxRehSV"
      },
      "execution_count": 34,
      "outputs": []
    },
    {
      "cell_type": "code",
      "source": [
        "a = 0.0 ** 100     #a = 0.0\n",
        "b = 8 % 0     #ZeroDivisionError\n",
        "c = 0 % 8.0     #c = 0.0\n",
        "d = 8.1 // 4     #d = 2.0\n",
        "e = 1 // 4.0     #e = 0.0"
      ],
      "metadata": {
        "colab": {
          "base_uri": "https://localhost:8080/",
          "height": 245
        },
        "id": "UKv45dx_eqo_",
        "outputId": "09e8b056-5ab4-4155-a9d1-bb80ce9859a6"
      },
      "execution_count": 35,
      "outputs": [
        {
          "output_type": "error",
          "ename": "ZeroDivisionError",
          "evalue": "ignored",
          "traceback": [
            "\u001b[0;31m---------------------------------------------------------------------------\u001b[0m",
            "\u001b[0;31mZeroDivisionError\u001b[0m                         Traceback (most recent call last)",
            "\u001b[0;32m<ipython-input-35-5f231e567c57>\u001b[0m in \u001b[0;36m<module>\u001b[0;34m()\u001b[0m\n\u001b[1;32m      1\u001b[0m \u001b[0ma\u001b[0m \u001b[0;34m=\u001b[0m \u001b[0;36m0.0\u001b[0m \u001b[0;34m**\u001b[0m \u001b[0;36m100\u001b[0m     \u001b[0;31m#a = 0.0\u001b[0m\u001b[0;34m\u001b[0m\u001b[0;34m\u001b[0m\u001b[0m\n\u001b[0;32m----> 2\u001b[0;31m \u001b[0mb\u001b[0m \u001b[0;34m=\u001b[0m \u001b[0;36m8\u001b[0m \u001b[0;34m%\u001b[0m \u001b[0;36m0\u001b[0m     \u001b[0;31m#ZeroDivisionError\u001b[0m\u001b[0;34m\u001b[0m\u001b[0;34m\u001b[0m\u001b[0m\n\u001b[0m\u001b[1;32m      3\u001b[0m \u001b[0mc\u001b[0m \u001b[0;34m=\u001b[0m \u001b[0;36m0\u001b[0m \u001b[0;34m%\u001b[0m \u001b[0;36m8.0\u001b[0m     \u001b[0;31m#c = 0.0\u001b[0m\u001b[0;34m\u001b[0m\u001b[0;34m\u001b[0m\u001b[0m\n\u001b[1;32m      4\u001b[0m \u001b[0md\u001b[0m \u001b[0;34m=\u001b[0m \u001b[0;36m8.1\u001b[0m \u001b[0;34m//\u001b[0m \u001b[0;36m4\u001b[0m     \u001b[0;31m#d = 2.0\u001b[0m\u001b[0;34m\u001b[0m\u001b[0;34m\u001b[0m\u001b[0m\n\u001b[1;32m      5\u001b[0m \u001b[0me\u001b[0m \u001b[0;34m=\u001b[0m \u001b[0;36m1\u001b[0m \u001b[0;34m//\u001b[0m \u001b[0;36m4.0\u001b[0m     \u001b[0;31m#e = 0.0\u001b[0m\u001b[0;34m\u001b[0m\u001b[0;34m\u001b[0m\u001b[0m\n",
            "\u001b[0;31mZeroDivisionError\u001b[0m: integer division or modulo by zero"
          ]
        }
      ]
    },
    {
      "cell_type": "code",
      "source": [
        "a = 3\n",
        "b = a + 1     #b = 4\n",
        "a = 4\n",
        "d = c + a\n",
        "d = a + a * a     #d = 12\n",
        "d = (a + a) * a     #d = 32"
      ],
      "metadata": {
        "id": "4QrvYMJIgn6Y"
      },
      "execution_count": 36,
      "outputs": []
    },
    {
      "cell_type": "code",
      "source": [
        "a = 2 ** 3     #a = 8\n",
        "b = a ** 2     #b = 64\n",
        "c = b % 1.0     #c = 0.0\n",
        "d = (c + 2 * 2) // 2     #d = 2.0\n",
        "e = -d + 2     #e = 0.0"
      ],
      "metadata": {
        "id": "F_lbR_TbhHHH"
      },
      "execution_count": 37,
      "outputs": []
    },
    {
      "cell_type": "markdown",
      "source": [
        "Data Type (자료형) : 문자열"
      ],
      "metadata": {
        "id": "kGQLZPUwhY9j"
      }
    },
    {
      "cell_type": "code",
      "source": [
        "name = \"호연\"     #name = '호연'\n",
        "\"호연\"     #'호연'\n",
        "statement = \"Python's ability\"     #statement = 'Python's ability'\n",
        "statement = 'He said \"Pythons is good\"'     #statement = 'He said \"Python is good\"'\n",
        "statement = 'Pythons\\'s ability'     #statement = \"Python's ability\""
      ],
      "metadata": {
        "id": "FLs8NhKohVNR"
      },
      "execution_count": 38,
      "outputs": []
    },
    {
      "cell_type": "code",
      "source": [
        "a = \"abc\\ndef\"\n",
        "print(a)\n",
        "b = \"\"\"aa\n",
        "bb\n",
        "cc\"\"\"\n",
        "print(b)\n",
        "b = '''He's said,\\n\"Go!\"'''\n",
        "print(b)"
      ],
      "metadata": {
        "colab": {
          "base_uri": "https://localhost:8080/"
        },
        "id": "q2wxR2G6q4-Y",
        "outputId": "542d711b-d8bf-49b9-9a80-ded5f98f755f"
      },
      "execution_count": 39,
      "outputs": [
        {
          "output_type": "stream",
          "name": "stdout",
          "text": [
            "abc\n",
            "def\n",
            "aa\n",
            "bb\n",
            "cc\n",
            "He's said,\n",
            "\"Go!\"\n"
          ]
        }
      ]
    },
    {
      "cell_type": "code",
      "source": [
        "a = \"Hello\"\n",
        "b = a + 'World'     #b = 'HelloWorld'\n",
        "c = a * 2     #c = 'HelloHello'\n",
        "d = a * 2.0     #TypeError\n",
        "a = \"4\"\n",
        "b = \"2\"\n",
        "c = a * 2     #c = 44\n",
        "a + b + b     #422\n",
        "e = a * b     #TypeError\n",
        "print(\"=\" * 5 + \"k\")\n",
        "print(c)"
      ],
      "metadata": {
        "colab": {
          "base_uri": "https://localhost:8080/",
          "height": 245
        },
        "id": "G7YTX_b7q8Qb",
        "outputId": "afa3d8a1-bc6a-4320-a31d-9a8b85670e07"
      },
      "execution_count": 40,
      "outputs": [
        {
          "output_type": "error",
          "ename": "TypeError",
          "evalue": "ignored",
          "traceback": [
            "\u001b[0;31m---------------------------------------------------------------------------\u001b[0m",
            "\u001b[0;31mTypeError\u001b[0m                                 Traceback (most recent call last)",
            "\u001b[0;32m<ipython-input-40-0050df057836>\u001b[0m in \u001b[0;36m<module>\u001b[0;34m()\u001b[0m\n\u001b[1;32m      2\u001b[0m \u001b[0mb\u001b[0m \u001b[0;34m=\u001b[0m \u001b[0ma\u001b[0m \u001b[0;34m+\u001b[0m \u001b[0;34m'World'\u001b[0m     \u001b[0;31m#b = 'HelloWorld'\u001b[0m\u001b[0;34m\u001b[0m\u001b[0;34m\u001b[0m\u001b[0m\n\u001b[1;32m      3\u001b[0m \u001b[0mc\u001b[0m \u001b[0;34m=\u001b[0m \u001b[0ma\u001b[0m \u001b[0;34m*\u001b[0m \u001b[0;36m2\u001b[0m     \u001b[0;31m#c = 'HelloHello'\u001b[0m\u001b[0;34m\u001b[0m\u001b[0;34m\u001b[0m\u001b[0m\n\u001b[0;32m----> 4\u001b[0;31m \u001b[0md\u001b[0m \u001b[0;34m=\u001b[0m \u001b[0ma\u001b[0m \u001b[0;34m*\u001b[0m \u001b[0;36m2.0\u001b[0m     \u001b[0;31m#TypeError\u001b[0m\u001b[0;34m\u001b[0m\u001b[0;34m\u001b[0m\u001b[0m\n\u001b[0m\u001b[1;32m      5\u001b[0m \u001b[0ma\u001b[0m \u001b[0;34m=\u001b[0m \u001b[0;34m\"4\"\u001b[0m\u001b[0;34m\u001b[0m\u001b[0;34m\u001b[0m\u001b[0m\n\u001b[1;32m      6\u001b[0m \u001b[0mb\u001b[0m \u001b[0;34m=\u001b[0m \u001b[0;34m\"2\"\u001b[0m\u001b[0;34m\u001b[0m\u001b[0;34m\u001b[0m\u001b[0m\n",
            "\u001b[0;31mTypeError\u001b[0m: can't multiply sequence by non-int of type 'float'"
          ]
        }
      ]
    },
    {
      "cell_type": "code",
      "source": [
        "print(\"abc\\ndef\")\n",
        "print(\"abc\\tdef\")\n",
        "print(\"abc\\\\def\")\n",
        "print(\"abc\\'def\\'\")\n",
        "print(\"abc\\\"def\\\"\")\n",
        "print(\"abc\\rdef\")\n",
        "print(\"abc\\adef\")\n",
        "print(\"abc\\bdef\")\n",
        "print(\"abc\\fdef\")\n",
        "print(\"abc\\000def\")"
      ],
      "metadata": {
        "colab": {
          "base_uri": "https://localhost:8080/"
        },
        "id": "bJDBVR1xr607",
        "outputId": "f6543bc9-69d7-4478-ecda-b5422ba17f68"
      },
      "execution_count": 41,
      "outputs": [
        {
          "output_type": "stream",
          "name": "stdout",
          "text": [
            "abc\n",
            "def\n",
            "abc\tdef\n",
            "abc\\def\n",
            "abc'def'\n",
            "abc\"def\"\n",
            "abc\rdef\n",
            "abc\u0007def\n",
            "abc\bdef\n",
            "abc\fdef\n",
            "abc\u0000def\n"
          ]
        }
      ]
    },
    {
      "cell_type": "markdown",
      "source": [
        "Data Type (자료형) : 리스트"
      ],
      "metadata": {
        "id": "jLSH3qf6sldr"
      }
    },
    {
      "cell_type": "code",
      "source": [
        "target = [\"쌀\", \"김치\"]     #target = ['쌀', '김치']\n",
        "target = [1, 2, 3]\n",
        "target = ['1', \"쌀\", 2, 2]     #target = ['1', '쌀', 2, 2]\n",
        "target = []     #target = []\n",
        "target = list()     #target = []\n",
        "target = list([\"쌀\", 10.5])     #target = ['쌀', 10.5]\n",
        "target = [5, [\"a\", \"b\"]]     #target = [5, ['a', 'b']]\n",
        "a = [1, 2, 3]\n",
        "b = [\"가\", \"나\", \"다\", a]     #b = ['가', '나', '다', [1, 2, 3]]\n",
        "c = [\"가\", \"나\", \"다\", [a]]     #c = ['가', '나', '다', [[1, 2, 3]]]"
      ],
      "metadata": {
        "id": "8mZjEQ5kr_oi"
      },
      "execution_count": 42,
      "outputs": []
    },
    {
      "cell_type": "code",
      "source": [
        "a = [1, 2, 3]\n",
        "a[0]     #1\n",
        "a[2]     #3\n",
        "a[3]     #IndexError\n",
        "b = -1\n",
        "a[b]     #3\n",
        "a[-3]     #1\n",
        "a[-4]     #IndexError\n",
        "a[0.5]     #IndexError"
      ],
      "metadata": {
        "colab": {
          "base_uri": "https://localhost:8080/",
          "height": 245
        },
        "id": "KjbcAHqhs_0L",
        "outputId": "3c98fd25-fcfd-4a25-816c-697ef4f47b5d"
      },
      "execution_count": 43,
      "outputs": [
        {
          "output_type": "error",
          "ename": "IndexError",
          "evalue": "ignored",
          "traceback": [
            "\u001b[0;31m---------------------------------------------------------------------------\u001b[0m",
            "\u001b[0;31mIndexError\u001b[0m                                Traceback (most recent call last)",
            "\u001b[0;32m<ipython-input-43-37baf50724f2>\u001b[0m in \u001b[0;36m<module>\u001b[0;34m()\u001b[0m\n\u001b[1;32m      2\u001b[0m \u001b[0ma\u001b[0m\u001b[0;34m[\u001b[0m\u001b[0;36m0\u001b[0m\u001b[0;34m]\u001b[0m     \u001b[0;31m#1\u001b[0m\u001b[0;34m\u001b[0m\u001b[0;34m\u001b[0m\u001b[0m\n\u001b[1;32m      3\u001b[0m \u001b[0ma\u001b[0m\u001b[0;34m[\u001b[0m\u001b[0;36m2\u001b[0m\u001b[0;34m]\u001b[0m     \u001b[0;31m#3\u001b[0m\u001b[0;34m\u001b[0m\u001b[0;34m\u001b[0m\u001b[0m\n\u001b[0;32m----> 4\u001b[0;31m \u001b[0ma\u001b[0m\u001b[0;34m[\u001b[0m\u001b[0;36m3\u001b[0m\u001b[0;34m]\u001b[0m     \u001b[0;31m#IndexError\u001b[0m\u001b[0;34m\u001b[0m\u001b[0;34m\u001b[0m\u001b[0m\n\u001b[0m\u001b[1;32m      5\u001b[0m \u001b[0mb\u001b[0m \u001b[0;34m=\u001b[0m \u001b[0;34m-\u001b[0m\u001b[0;36m1\u001b[0m\u001b[0;34m\u001b[0m\u001b[0;34m\u001b[0m\u001b[0m\n\u001b[1;32m      6\u001b[0m \u001b[0ma\u001b[0m\u001b[0;34m[\u001b[0m\u001b[0mb\u001b[0m\u001b[0;34m]\u001b[0m     \u001b[0;31m#3\u001b[0m\u001b[0;34m\u001b[0m\u001b[0;34m\u001b[0m\u001b[0m\n",
            "\u001b[0;31mIndexError\u001b[0m: list index out of range"
          ]
        }
      ]
    },
    {
      "cell_type": "code",
      "source": [
        "a = [1, 2, 3]\n",
        "a[0:3]     #[1, 2, 3]\n",
        "a[0:1]     #[1, 2]\n",
        "a[0:2.0]     #TypeError\n",
        "a[0:0]     #[]\n",
        "a[0:-1]     #[1, 2]\n",
        "a[0:-3]     #[]\n",
        "a[:2]     #[1, 2]\n",
        "a[1:]     #[2, 3]\n",
        "a[:]     #[1, 2, 3]"
      ],
      "metadata": {
        "colab": {
          "base_uri": "https://localhost:8080/",
          "height": 245
        },
        "id": "RN616H1RtmLC",
        "outputId": "057f1816-7425-4a01-9cf0-11064ebc2842"
      },
      "execution_count": 44,
      "outputs": [
        {
          "output_type": "error",
          "ename": "TypeError",
          "evalue": "ignored",
          "traceback": [
            "\u001b[0;31m---------------------------------------------------------------------------\u001b[0m",
            "\u001b[0;31mTypeError\u001b[0m                                 Traceback (most recent call last)",
            "\u001b[0;32m<ipython-input-44-27c34c7476f7>\u001b[0m in \u001b[0;36m<module>\u001b[0;34m()\u001b[0m\n\u001b[1;32m      2\u001b[0m \u001b[0ma\u001b[0m\u001b[0;34m[\u001b[0m\u001b[0;36m0\u001b[0m\u001b[0;34m:\u001b[0m\u001b[0;36m3\u001b[0m\u001b[0;34m]\u001b[0m     \u001b[0;31m#[1, 2, 3]\u001b[0m\u001b[0;34m\u001b[0m\u001b[0;34m\u001b[0m\u001b[0m\n\u001b[1;32m      3\u001b[0m \u001b[0ma\u001b[0m\u001b[0;34m[\u001b[0m\u001b[0;36m0\u001b[0m\u001b[0;34m:\u001b[0m\u001b[0;36m1\u001b[0m\u001b[0;34m]\u001b[0m     \u001b[0;31m#[1, 2]\u001b[0m\u001b[0;34m\u001b[0m\u001b[0;34m\u001b[0m\u001b[0m\n\u001b[0;32m----> 4\u001b[0;31m \u001b[0ma\u001b[0m\u001b[0;34m[\u001b[0m\u001b[0;36m0\u001b[0m\u001b[0;34m:\u001b[0m\u001b[0;36m2.0\u001b[0m\u001b[0;34m]\u001b[0m     \u001b[0;31m#TypeError\u001b[0m\u001b[0;34m\u001b[0m\u001b[0;34m\u001b[0m\u001b[0m\n\u001b[0m\u001b[1;32m      5\u001b[0m \u001b[0ma\u001b[0m\u001b[0;34m[\u001b[0m\u001b[0;36m0\u001b[0m\u001b[0;34m:\u001b[0m\u001b[0;36m0\u001b[0m\u001b[0;34m]\u001b[0m     \u001b[0;31m#[]\u001b[0m\u001b[0;34m\u001b[0m\u001b[0;34m\u001b[0m\u001b[0m\n\u001b[1;32m      6\u001b[0m \u001b[0ma\u001b[0m\u001b[0;34m[\u001b[0m\u001b[0;36m0\u001b[0m\u001b[0;34m:\u001b[0m\u001b[0;34m-\u001b[0m\u001b[0;36m1\u001b[0m\u001b[0;34m]\u001b[0m     \u001b[0;31m#[1, 2]\u001b[0m\u001b[0;34m\u001b[0m\u001b[0;34m\u001b[0m\u001b[0m\n",
            "\u001b[0;31mTypeError\u001b[0m: slice indices must be integers or None or have an __index__ method"
          ]
        }
      ]
    },
    {
      "cell_type": "code",
      "source": [
        "a = [1, 2, 3]\n",
        "b = [4, 5, 6]\n",
        "a + b     #[1, 2, 3, 4, 5, 6]\n",
        "a - b     #TypeError\n",
        "a = [1, 2]\n",
        "b = [2]\n",
        "a + b + b     #[1, 2, 2, 2]\n",
        "a + b - b     #TypeError\n",
        "b = [2, 4]\n",
        "b * 2     [2, 4, 2, 4]\n",
        "a[0] + b     #TypeError\n",
        "a[0:1] + b     #[1, 4, 5, 6]"
      ],
      "metadata": {
        "colab": {
          "base_uri": "https://localhost:8080/",
          "height": 245
        },
        "id": "zyniQdESuERE",
        "outputId": "5239c1df-9b3e-4659-96f1-f4d9efd2ad65"
      },
      "execution_count": 45,
      "outputs": [
        {
          "output_type": "error",
          "ename": "TypeError",
          "evalue": "ignored",
          "traceback": [
            "\u001b[0;31m---------------------------------------------------------------------------\u001b[0m",
            "\u001b[0;31mTypeError\u001b[0m                                 Traceback (most recent call last)",
            "\u001b[0;32m<ipython-input-45-591a006a91c6>\u001b[0m in \u001b[0;36m<module>\u001b[0;34m()\u001b[0m\n\u001b[1;32m      2\u001b[0m \u001b[0mb\u001b[0m \u001b[0;34m=\u001b[0m \u001b[0;34m[\u001b[0m\u001b[0;36m4\u001b[0m\u001b[0;34m,\u001b[0m \u001b[0;36m5\u001b[0m\u001b[0;34m,\u001b[0m \u001b[0;36m6\u001b[0m\u001b[0;34m]\u001b[0m\u001b[0;34m\u001b[0m\u001b[0;34m\u001b[0m\u001b[0m\n\u001b[1;32m      3\u001b[0m \u001b[0ma\u001b[0m \u001b[0;34m+\u001b[0m \u001b[0mb\u001b[0m     \u001b[0;31m#[1, 2, 3, 4, 5, 6]\u001b[0m\u001b[0;34m\u001b[0m\u001b[0;34m\u001b[0m\u001b[0m\n\u001b[0;32m----> 4\u001b[0;31m \u001b[0ma\u001b[0m \u001b[0;34m-\u001b[0m \u001b[0mb\u001b[0m     \u001b[0;31m#TypeError\u001b[0m\u001b[0;34m\u001b[0m\u001b[0;34m\u001b[0m\u001b[0m\n\u001b[0m\u001b[1;32m      5\u001b[0m \u001b[0ma\u001b[0m \u001b[0;34m=\u001b[0m \u001b[0;34m[\u001b[0m\u001b[0;36m1\u001b[0m\u001b[0;34m,\u001b[0m \u001b[0;36m2\u001b[0m\u001b[0;34m]\u001b[0m\u001b[0;34m\u001b[0m\u001b[0;34m\u001b[0m\u001b[0m\n\u001b[1;32m      6\u001b[0m \u001b[0mb\u001b[0m \u001b[0;34m=\u001b[0m \u001b[0;34m[\u001b[0m\u001b[0;36m2\u001b[0m\u001b[0;34m]\u001b[0m\u001b[0;34m\u001b[0m\u001b[0;34m\u001b[0m\u001b[0m\n",
            "\u001b[0;31mTypeError\u001b[0m: unsupported operand type(s) for -: 'list' and 'list'"
          ]
        }
      ]
    },
    {
      "cell_type": "code",
      "source": [
        "a = [1, 2, 4]\n",
        "a[2] = 3\n",
        "a     #[1, 2, 3]\n",
        "a[1:2] = [2, 2]\n",
        "a     #[1, 2, 2, 3]\n",
        "a[1] = [2, 2]\n",
        "a     #[1, [2, 2], 3]\n",
        "a = [1, 2, 3, 4]\n",
        "del a[3]\n",
        "a     #[1, 2, 3]\n",
        "a[1:3] = []\n",
        "a     #[1]"
      ],
      "metadata": {
        "colab": {
          "base_uri": "https://localhost:8080/"
        },
        "id": "jQ6xBIIyurXg",
        "outputId": "717d64fa-8611-4901-d097-b00464b74307"
      },
      "execution_count": 46,
      "outputs": [
        {
          "output_type": "execute_result",
          "data": {
            "text/plain": [
              "[1]"
            ]
          },
          "metadata": {},
          "execution_count": 46
        }
      ]
    },
    {
      "cell_type": "code",
      "source": [
        "a = [1, 2, 3]\n",
        "b = a\n",
        "b is a     #True\n",
        "a[0] = 5     #a = [5, 2, 3], b = [5, 2, 3]\n",
        "del(a[2])     #a = [5, 2], b = [5, 2]\n",
        "b = a[:]     #a = [5, 2], b = [5, 2]\n",
        "b is a     #False\n",
        "a[0] = 1     #a = [1, 2], b = [5, 2]"
      ],
      "metadata": {
        "id": "k3Q2LkK1vETx"
      },
      "execution_count": 47,
      "outputs": []
    },
    {
      "cell_type": "code",
      "source": [
        "a = [1, 5, 3, -1]\n",
        "a.sort()\n",
        "a     #[-1, 1, 3, 5]\n",
        "a.sort(reverse = True)\n",
        "a     #[5, 3, 1, -1]\n",
        "b = sorted([1, 5, 3, -1], reverse = True)\n",
        "b     #[5, 3, 1, -1]\n",
        "a = [1, 5, \"a\"]\n",
        "a.sort()     #TypeError\n",
        "a = [\"a\", \"b\", \"ab\", \"\"]\n",
        "a.sort()     #['', 'a', 'ab', 'b']\n",
        "b = (1, 2, 3)\n",
        "b.sort()     #TypeError"
      ],
      "metadata": {
        "colab": {
          "base_uri": "https://localhost:8080/",
          "height": 245
        },
        "id": "UOvMc4rcvhh9",
        "outputId": "c7161536-a049-4d75-a05f-dc3bd2f923b2"
      },
      "execution_count": 48,
      "outputs": [
        {
          "output_type": "error",
          "ename": "TypeError",
          "evalue": "ignored",
          "traceback": [
            "\u001b[0;31m---------------------------------------------------------------------------\u001b[0m",
            "\u001b[0;31mTypeError\u001b[0m                                 Traceback (most recent call last)",
            "\u001b[0;32m<ipython-input-48-a70b1120ee26>\u001b[0m in \u001b[0;36m<module>\u001b[0;34m()\u001b[0m\n\u001b[1;32m      7\u001b[0m \u001b[0mb\u001b[0m     \u001b[0;31m#[5, 3, 1, -1]\u001b[0m\u001b[0;34m\u001b[0m\u001b[0;34m\u001b[0m\u001b[0m\n\u001b[1;32m      8\u001b[0m \u001b[0ma\u001b[0m \u001b[0;34m=\u001b[0m \u001b[0;34m[\u001b[0m\u001b[0;36m1\u001b[0m\u001b[0;34m,\u001b[0m \u001b[0;36m5\u001b[0m\u001b[0;34m,\u001b[0m \u001b[0;34m\"a\"\u001b[0m\u001b[0;34m]\u001b[0m\u001b[0;34m\u001b[0m\u001b[0;34m\u001b[0m\u001b[0m\n\u001b[0;32m----> 9\u001b[0;31m \u001b[0ma\u001b[0m\u001b[0;34m.\u001b[0m\u001b[0msort\u001b[0m\u001b[0;34m(\u001b[0m\u001b[0;34m)\u001b[0m     \u001b[0;31m#TypeError\u001b[0m\u001b[0;34m\u001b[0m\u001b[0;34m\u001b[0m\u001b[0m\n\u001b[0m\u001b[1;32m     10\u001b[0m \u001b[0ma\u001b[0m \u001b[0;34m=\u001b[0m \u001b[0;34m[\u001b[0m\u001b[0;34m\"a\"\u001b[0m\u001b[0;34m,\u001b[0m \u001b[0;34m\"b\"\u001b[0m\u001b[0;34m,\u001b[0m \u001b[0;34m\"ab\"\u001b[0m\u001b[0;34m,\u001b[0m \u001b[0;34m\"\"\u001b[0m\u001b[0;34m]\u001b[0m\u001b[0;34m\u001b[0m\u001b[0;34m\u001b[0m\u001b[0m\n\u001b[1;32m     11\u001b[0m \u001b[0ma\u001b[0m\u001b[0;34m.\u001b[0m\u001b[0msort\u001b[0m\u001b[0;34m(\u001b[0m\u001b[0;34m)\u001b[0m     \u001b[0;31m#['', 'a', 'ab', 'b']\u001b[0m\u001b[0;34m\u001b[0m\u001b[0;34m\u001b[0m\u001b[0m\n",
            "\u001b[0;31mTypeError\u001b[0m: '<' not supported between instances of 'str' and 'int'"
          ]
        }
      ]
    },
    {
      "cell_type": "markdown",
      "source": [
        "Data Type (자료형) : 리스트와 문자열"
      ],
      "metadata": {
        "id": "UUBjvDMPw7CY"
      }
    },
    {
      "cell_type": "code",
      "source": [
        "a = '가나다'\n",
        "a[0]     #'가'\n",
        "a[-1]      #'나'\n",
        "a * 3     #'가나다가나다가나다'\n",
        "a + a     #'가나다가나다'"
      ],
      "metadata": {
        "colab": {
          "base_uri": "https://localhost:8080/",
          "height": 35
        },
        "id": "OtXIQpPhww9O",
        "outputId": "ada52901-3324-4359-d471-63c604021a39"
      },
      "execution_count": 49,
      "outputs": [
        {
          "output_type": "execute_result",
          "data": {
            "text/plain": [
              "'가나다가나다'"
            ],
            "application/vnd.google.colaboratory.intrinsic+json": {
              "type": "string"
            }
          },
          "metadata": {},
          "execution_count": 49
        }
      ]
    },
    {
      "cell_type": "code",
      "source": [
        "a[1:2]     #'나'\n",
        "a[0] = '라'     #Error\n",
        "del a[1]     #Error\n",
        "a[0:1] = []     #Error"
      ],
      "metadata": {
        "id": "9Xxkh8E5xgAW",
        "colab": {
          "base_uri": "https://localhost:8080/",
          "height": 227
        },
        "outputId": "40c574ca-3b96-45ae-cf60-7ca129722b1c"
      },
      "execution_count": 50,
      "outputs": [
        {
          "output_type": "error",
          "ename": "TypeError",
          "evalue": "ignored",
          "traceback": [
            "\u001b[0;31m---------------------------------------------------------------------------\u001b[0m",
            "\u001b[0;31mTypeError\u001b[0m                                 Traceback (most recent call last)",
            "\u001b[0;32m<ipython-input-50-1dad7f430d45>\u001b[0m in \u001b[0;36m<module>\u001b[0;34m()\u001b[0m\n\u001b[1;32m      1\u001b[0m \u001b[0ma\u001b[0m\u001b[0;34m[\u001b[0m\u001b[0;36m1\u001b[0m\u001b[0;34m:\u001b[0m\u001b[0;36m2\u001b[0m\u001b[0;34m]\u001b[0m     \u001b[0;31m#'나'\u001b[0m\u001b[0;34m\u001b[0m\u001b[0;34m\u001b[0m\u001b[0m\n\u001b[0;32m----> 2\u001b[0;31m \u001b[0ma\u001b[0m\u001b[0;34m[\u001b[0m\u001b[0;36m0\u001b[0m\u001b[0;34m]\u001b[0m \u001b[0;34m=\u001b[0m \u001b[0;34m'라'\u001b[0m     \u001b[0;31m#Error\u001b[0m\u001b[0;34m\u001b[0m\u001b[0;34m\u001b[0m\u001b[0m\n\u001b[0m\u001b[1;32m      3\u001b[0m \u001b[0;32mdel\u001b[0m \u001b[0ma\u001b[0m\u001b[0;34m[\u001b[0m\u001b[0;36m1\u001b[0m\u001b[0;34m]\u001b[0m     \u001b[0;31m#Error\u001b[0m\u001b[0;34m\u001b[0m\u001b[0;34m\u001b[0m\u001b[0m\n\u001b[1;32m      4\u001b[0m \u001b[0ma\u001b[0m\u001b[0;34m[\u001b[0m\u001b[0;36m0\u001b[0m\u001b[0;34m:\u001b[0m\u001b[0;36m1\u001b[0m\u001b[0;34m]\u001b[0m \u001b[0;34m=\u001b[0m \u001b[0;34m[\u001b[0m\u001b[0;34m]\u001b[0m     \u001b[0;31m#Error\u001b[0m\u001b[0;34m\u001b[0m\u001b[0;34m\u001b[0m\u001b[0m\n",
            "\u001b[0;31mTypeError\u001b[0m: 'str' object does not support item assignment"
          ]
        }
      ]
    },
    {
      "cell_type": "code",
      "source": [
        "a = ['가', '나', '다']\n",
        "a[0] = '1'\n",
        "a     #['1', '나', '다']"
      ],
      "metadata": {
        "colab": {
          "base_uri": "https://localhost:8080/"
        },
        "id": "UqJOn3WiZ3Qu",
        "outputId": "2b41c156-4963-45f0-d8e7-1500c9279fc7"
      },
      "execution_count": 51,
      "outputs": [
        {
          "output_type": "execute_result",
          "data": {
            "text/plain": [
              "['1', '나', '다']"
            ]
          },
          "metadata": {},
          "execution_count": 51
        }
      ]
    },
    {
      "cell_type": "code",
      "source": [
        "3\n",
        "'a123'"
      ],
      "metadata": {
        "colab": {
          "base_uri": "https://localhost:8080/",
          "height": 35
        },
        "id": "zLpWdjnraBo2",
        "outputId": "d2fdf440-386e-451a-f467-818d3a1c83f7"
      },
      "execution_count": 52,
      "outputs": [
        {
          "output_type": "execute_result",
          "data": {
            "text/plain": [
              "'a123'"
            ],
            "application/vnd.google.colaboratory.intrinsic+json": {
              "type": "string"
            }
          },
          "metadata": {},
          "execution_count": 52
        }
      ]
    },
    {
      "cell_type": "code",
      "source": [
        "'a123'\n",
        "'a'"
      ],
      "metadata": {
        "colab": {
          "base_uri": "https://localhost:8080/",
          "height": 35
        },
        "id": "E_HHU4sRaJlB",
        "outputId": "0ad0ec81-e356-4d40-cd6f-e086ccdf1dfc"
      },
      "execution_count": 53,
      "outputs": [
        {
          "output_type": "execute_result",
          "data": {
            "text/plain": [
              "'a'"
            ],
            "application/vnd.google.colaboratory.intrinsic+json": {
              "type": "string"
            }
          },
          "metadata": {},
          "execution_count": 53
        }
      ]
    },
    {
      "cell_type": "code",
      "source": [
        "a = 'a123'\n",
        "a[0] = '0'     #TypeError"
      ],
      "metadata": {
        "colab": {
          "base_uri": "https://localhost:8080/",
          "height": 190
        },
        "id": "3pnxGxGdaLfF",
        "outputId": "46ebc012-2f31-4ab9-e4fe-7efd6e182fb9"
      },
      "execution_count": 54,
      "outputs": [
        {
          "output_type": "error",
          "ename": "TypeError",
          "evalue": "ignored",
          "traceback": [
            "\u001b[0;31m---------------------------------------------------------------------------\u001b[0m",
            "\u001b[0;31mTypeError\u001b[0m                                 Traceback (most recent call last)",
            "\u001b[0;32m<ipython-input-54-2bc1d2602fc9>\u001b[0m in \u001b[0;36m<module>\u001b[0;34m()\u001b[0m\n\u001b[1;32m      1\u001b[0m \u001b[0ma\u001b[0m \u001b[0;34m=\u001b[0m \u001b[0;34m'a123'\u001b[0m\u001b[0;34m\u001b[0m\u001b[0;34m\u001b[0m\u001b[0m\n\u001b[0;32m----> 2\u001b[0;31m \u001b[0ma\u001b[0m\u001b[0;34m[\u001b[0m\u001b[0;36m0\u001b[0m\u001b[0;34m]\u001b[0m \u001b[0;34m=\u001b[0m \u001b[0;34m'0'\u001b[0m     \u001b[0;31m#TypeError\u001b[0m\u001b[0;34m\u001b[0m\u001b[0;34m\u001b[0m\u001b[0m\n\u001b[0m",
            "\u001b[0;31mTypeError\u001b[0m: 'str' object does not support item assignment"
          ]
        }
      ]
    },
    {
      "cell_type": "markdown",
      "source": [
        "Data Type (자료형) : 숫자, 문자열, 리스트"
      ],
      "metadata": {
        "id": "nECyPLD0cEOM"
      }
    },
    {
      "cell_type": "code",
      "source": [
        "pi = 3.14\n",
        "pi * 2     #6.28\n",
        "5.14 = pi + 2     #SyntaxError\n",
        "pi = \"3.14\"\n",
        "pi * 2     #'3.143.14'\n",
        "pi[0] + 2     #TypeError\n",
        "pi[0] + \"2\"     #'32'\n",
        "pi = ['3', '.', '1', '4']\n",
        "pi[0] + 2     #TypeError\n",
        "pi[0] + '2'     #'32'\n",
        "pi[0] = pi[0] + '2'\n",
        "pi     #['32', '.', '1', '4']"
      ],
      "metadata": {
        "colab": {
          "base_uri": "https://localhost:8080/",
          "height": 136
        },
        "id": "L0xHqv36aPi5",
        "outputId": "0add2490-35ac-4ddf-d821-17616d584603"
      },
      "execution_count": 55,
      "outputs": [
        {
          "output_type": "error",
          "ename": "SyntaxError",
          "evalue": "ignored",
          "traceback": [
            "\u001b[0;36m  File \u001b[0;32m\"<ipython-input-55-6a3c13f3d6e9>\"\u001b[0;36m, line \u001b[0;32m3\u001b[0m\n\u001b[0;31m    5.14 = pi + 2     #SyntaxError\u001b[0m\n\u001b[0m                                  ^\u001b[0m\n\u001b[0;31mSyntaxError\u001b[0m\u001b[0;31m:\u001b[0m can't assign to literal\n"
          ]
        }
      ]
    },
    {
      "cell_type": "code",
      "source": [
        "pi = [3, '.', 1, 4]\n",
        "pi[0] + 2     #5\n",
        "del pi[0]\n",
        "pi     #['.', 1, 4]\n",
        "pi[0:1] = []\n",
        "pi     #[1, 4]\n",
        "pi = pi * 2\n",
        "pi     #[1, 4, 1, 4]\n",
        "pi = [3.14, '3.14']\n",
        "pi[0] = pi[0] * 2\n",
        "pi[1] = pi[1] * 2\n",
        "pi     #[6.28, '3.143.14']\n",
        "pi[1]     #'3.143.14'\n",
        "pi[1][0]     #'3'"
      ],
      "metadata": {
        "colab": {
          "base_uri": "https://localhost:8080/",
          "height": 35
        },
        "id": "mBYIkNU2a1D-",
        "outputId": "560f237b-19a3-4fd6-87fc-d7c82905aa4e"
      },
      "execution_count": 56,
      "outputs": [
        {
          "output_type": "execute_result",
          "data": {
            "text/plain": [
              "'3'"
            ],
            "application/vnd.google.colaboratory.intrinsic+json": {
              "type": "string"
            }
          },
          "metadata": {},
          "execution_count": 56
        }
      ]
    },
    {
      "cell_type": "markdown",
      "source": [
        "Data Type (자료형) : 다차원 리스트"
      ],
      "metadata": {
        "id": "b1EOKXsxcNq2"
      }
    },
    {
      "cell_type": "code",
      "source": [
        "d1 = [1, 2, 3]\n",
        "d2 = [4, 5, 6]\n",
        "d1 + d2     #[1, 2, 3, 4, 5, 6]\n",
        "d = [d1, d2]     #d = [[1, 2, 3], [4, 5, 6]]\n",
        "d[0]     #[1, 2, 3]\n",
        "d[-2]     #[1, 2, 3]\n",
        "d[0][2]     #3\n",
        "d[0][-2]     #2\n",
        "d[1][0]     #4\n",
        "d3 = [7, 8, 9]\n",
        "d + d3     #[[1, 2, 3], [4, 5, 6], 7, 8, 9]\n",
        "d = [d1, d2, d2, d3]     #d = [[1, 2, 3], [4, 5, 6], [4, 5, 6], [7, 8, 9]]"
      ],
      "metadata": {
        "id": "Df5XyqRvbniS"
      },
      "execution_count": 57,
      "outputs": []
    },
    {
      "cell_type": "code",
      "source": [
        "d[-2][-2]     #5\n",
        "d = [d1 + d2]     #d = [[1, 2, 3, 4, 5, 6]]\n",
        "d[0][4]     #5\n",
        "d = d1 + [d2 + d3]     #d = [1, 2, 3, [4, 5, 6, 7, 8, 9]]\n",
        "d[1]     #2\n",
        "d[1][0]     #TypeError\n",
        "d[3][1]     #5\n",
        "d = [d1] + [d2]     #d = [[1, 2, 3], [4, 5, 6]]\n",
        "d = [[d1] + [d2]]     #d = [[[1, 2, 3], [4, 5, 6]]]\n",
        "d[0][0]     #d = [1, 2, 3]"
      ],
      "metadata": {
        "colab": {
          "base_uri": "https://localhost:8080/",
          "height": 245
        },
        "id": "v_8AkQcnc4dw",
        "outputId": "f85318f5-892a-41f9-af62-dfe52230ee08"
      },
      "execution_count": 58,
      "outputs": [
        {
          "output_type": "error",
          "ename": "TypeError",
          "evalue": "ignored",
          "traceback": [
            "\u001b[0;31m---------------------------------------------------------------------------\u001b[0m",
            "\u001b[0;31mTypeError\u001b[0m                                 Traceback (most recent call last)",
            "\u001b[0;32m<ipython-input-58-8c4d384509ff>\u001b[0m in \u001b[0;36m<module>\u001b[0;34m()\u001b[0m\n\u001b[1;32m      4\u001b[0m \u001b[0md\u001b[0m \u001b[0;34m=\u001b[0m \u001b[0md1\u001b[0m \u001b[0;34m+\u001b[0m \u001b[0;34m[\u001b[0m\u001b[0md2\u001b[0m \u001b[0;34m+\u001b[0m \u001b[0md3\u001b[0m\u001b[0;34m]\u001b[0m     \u001b[0;31m#d = [1, 2, 3, [4, 5, 6, 7, 8, 9]]\u001b[0m\u001b[0;34m\u001b[0m\u001b[0;34m\u001b[0m\u001b[0m\n\u001b[1;32m      5\u001b[0m \u001b[0md\u001b[0m\u001b[0;34m[\u001b[0m\u001b[0;36m1\u001b[0m\u001b[0;34m]\u001b[0m     \u001b[0;31m#2\u001b[0m\u001b[0;34m\u001b[0m\u001b[0;34m\u001b[0m\u001b[0m\n\u001b[0;32m----> 6\u001b[0;31m \u001b[0md\u001b[0m\u001b[0;34m[\u001b[0m\u001b[0;36m1\u001b[0m\u001b[0;34m]\u001b[0m\u001b[0;34m[\u001b[0m\u001b[0;36m0\u001b[0m\u001b[0;34m]\u001b[0m     \u001b[0;31m#TypeError\u001b[0m\u001b[0;34m\u001b[0m\u001b[0;34m\u001b[0m\u001b[0m\n\u001b[0m\u001b[1;32m      7\u001b[0m \u001b[0md\u001b[0m\u001b[0;34m[\u001b[0m\u001b[0;36m3\u001b[0m\u001b[0;34m]\u001b[0m\u001b[0;34m[\u001b[0m\u001b[0;36m1\u001b[0m\u001b[0;34m]\u001b[0m     \u001b[0;31m#5\u001b[0m\u001b[0;34m\u001b[0m\u001b[0;34m\u001b[0m\u001b[0m\n\u001b[1;32m      8\u001b[0m \u001b[0md\u001b[0m \u001b[0;34m=\u001b[0m \u001b[0;34m[\u001b[0m\u001b[0md1\u001b[0m\u001b[0;34m]\u001b[0m \u001b[0;34m+\u001b[0m \u001b[0;34m[\u001b[0m\u001b[0md2\u001b[0m\u001b[0;34m]\u001b[0m     \u001b[0;31m#d = [[1, 2, 3], [4, 5, 6]]\u001b[0m\u001b[0;34m\u001b[0m\u001b[0;34m\u001b[0m\u001b[0m\n",
            "\u001b[0;31mTypeError\u001b[0m: 'int' object is not subscriptable"
          ]
        }
      ]
    },
    {
      "cell_type": "markdown",
      "source": [
        "Data Type (자료형) : 튜플"
      ],
      "metadata": {
        "id": "K9cI92QLdcKG"
      }
    },
    {
      "cell_type": "code",
      "source": [
        "target = (1, 2, 3)     #target = (1, 2, 3)\n",
        "target = 1, 2, 3     #target = (1, 2, 3)\n",
        "target = (1,)     #target = (1,)\n",
        "target = 1,     #target = (1,)\n",
        "target = (1)     #target = 1\n",
        "target = ()     #target = ()\n",
        "target = ('a', 'b', (1, 2))     #target = ('a', 'b', (1, 2))\n",
        "target = ('a', 'b', [1, 2])     #target = ('a', 'b', [1, 2])\n",
        "target = ['a', 'b', (1, 2)]     #target = ['a', 'b', )1, 2)]"
      ],
      "metadata": {
        "id": "oe28aIz4dYAG"
      },
      "execution_count": 59,
      "outputs": []
    },
    {
      "cell_type": "markdown",
      "source": [
        "Data Type (자료형) : 튜플 vs 리스트"
      ],
      "metadata": {
        "id": "SF-iSYzveOn8"
      }
    },
    {
      "cell_type": "code",
      "source": [
        "a = (1,)     #a = (1,)\n",
        "a = (1)     #a = 1\n",
        "a = (1, 2, 3)\n",
        "a[1]     #2\n",
        "a[1] = 4     #TypeError\n",
        "a[1:]     #(2,3)\n",
        "a * 2     #(1, 2, 3, 1, 2, 3)\n",
        "a + a     #(1, 2, 3, 1, 2, 3)"
      ],
      "metadata": {
        "colab": {
          "base_uri": "https://localhost:8080/",
          "height": 245
        },
        "id": "Y_CDoYBveKjv",
        "outputId": "5e78e171-38f3-4ed3-c757-f22a9f731a61"
      },
      "execution_count": 60,
      "outputs": [
        {
          "output_type": "error",
          "ename": "TypeError",
          "evalue": "ignored",
          "traceback": [
            "\u001b[0;31m---------------------------------------------------------------------------\u001b[0m",
            "\u001b[0;31mTypeError\u001b[0m                                 Traceback (most recent call last)",
            "\u001b[0;32m<ipython-input-60-b607900e3557>\u001b[0m in \u001b[0;36m<module>\u001b[0;34m()\u001b[0m\n\u001b[1;32m      3\u001b[0m \u001b[0ma\u001b[0m \u001b[0;34m=\u001b[0m \u001b[0;34m(\u001b[0m\u001b[0;36m1\u001b[0m\u001b[0;34m,\u001b[0m \u001b[0;36m2\u001b[0m\u001b[0;34m,\u001b[0m \u001b[0;36m3\u001b[0m\u001b[0;34m)\u001b[0m\u001b[0;34m\u001b[0m\u001b[0;34m\u001b[0m\u001b[0m\n\u001b[1;32m      4\u001b[0m \u001b[0ma\u001b[0m\u001b[0;34m[\u001b[0m\u001b[0;36m1\u001b[0m\u001b[0;34m]\u001b[0m     \u001b[0;31m#2\u001b[0m\u001b[0;34m\u001b[0m\u001b[0;34m\u001b[0m\u001b[0m\n\u001b[0;32m----> 5\u001b[0;31m \u001b[0ma\u001b[0m\u001b[0;34m[\u001b[0m\u001b[0;36m1\u001b[0m\u001b[0;34m]\u001b[0m \u001b[0;34m=\u001b[0m \u001b[0;36m4\u001b[0m     \u001b[0;31m#TypeError\u001b[0m\u001b[0;34m\u001b[0m\u001b[0;34m\u001b[0m\u001b[0m\n\u001b[0m\u001b[1;32m      6\u001b[0m \u001b[0ma\u001b[0m\u001b[0;34m[\u001b[0m\u001b[0;36m1\u001b[0m\u001b[0;34m:\u001b[0m\u001b[0;34m]\u001b[0m     \u001b[0;31m#(2,3)\u001b[0m\u001b[0;34m\u001b[0m\u001b[0;34m\u001b[0m\u001b[0m\n\u001b[1;32m      7\u001b[0m \u001b[0ma\u001b[0m \u001b[0;34m*\u001b[0m \u001b[0;36m2\u001b[0m     \u001b[0;31m#(1, 2, 3, 1, 2, 3)\u001b[0m\u001b[0;34m\u001b[0m\u001b[0;34m\u001b[0m\u001b[0m\n",
            "\u001b[0;31mTypeError\u001b[0m: 'tuple' object does not support item assignment"
          ]
        }
      ]
    },
    {
      "cell_type": "code",
      "source": [
        "a = [1,]     #a = [1]\n",
        "a = [1]     #a = [1]\n",
        "a = [1, 2, 3]\n",
        "a[1]     #2\n",
        "a[1] = 4     #a = [1, 4, 3]\n",
        "a[1:]     #[4, 3]\n",
        "a * 2     #[1, 2, 3, 1, 2, 3]\n",
        "a + a     #[1, 2, 3, 1, 2, 3]"
      ],
      "metadata": {
        "colab": {
          "base_uri": "https://localhost:8080/"
        },
        "id": "tYna6XqdesSx",
        "outputId": "28872732-84d8-4658-e369-38460880f437"
      },
      "execution_count": 61,
      "outputs": [
        {
          "output_type": "execute_result",
          "data": {
            "text/plain": [
              "[1, 4, 3, 1, 4, 3]"
            ]
          },
          "metadata": {},
          "execution_count": 61
        }
      ]
    },
    {
      "cell_type": "markdown",
      "source": [
        "Data Type (자료형) : 튜플"
      ],
      "metadata": {
        "id": "tJhE7lecfC-6"
      }
    },
    {
      "cell_type": "code",
      "source": [
        "a, b = 3, 4     #a = 3, b = 4\n",
        "b, a = a, b     #a = 4, b = 3\n",
        "a = 3, 4     #a = (3, 4)\n",
        "a = a[-1]     #a = 4"
      ],
      "metadata": {
        "id": "GAIPidcge-fz"
      },
      "execution_count": 62,
      "outputs": []
    }
  ]
}
