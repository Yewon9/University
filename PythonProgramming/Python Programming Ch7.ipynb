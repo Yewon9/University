{
  "nbformat": 4,
  "nbformat_minor": 0,
  "metadata": {
    "colab": {
      "name": "Python Programming Ch7.ipynb",
      "provenance": [],
      "authorship_tag": "ABX9TyNjnQetYXAwtlZG0eraFLvL",
      "include_colab_link": true
    },
    "kernelspec": {
      "name": "python3",
      "display_name": "Python 3"
    },
    "language_info": {
      "name": "python"
    }
  },
  "cells": [
    {
      "cell_type": "markdown",
      "metadata": {
        "id": "view-in-github",
        "colab_type": "text"
      },
      "source": [
        "<a href=\"https://colab.research.google.com/github/Yewon9/PythonProgramming_SCH/blob/main/Python%20Programming%20Ch7.ipynb\" target=\"_parent\"><img src=\"https://colab.research.google.com/assets/colab-badge.svg\" alt=\"Open In Colab\"/></a>"
      ]
    },
    {
      "cell_type": "markdown",
      "source": [
        "클래스 & 객체"
      ],
      "metadata": {
        "id": "Uw9Bq8hBeURc"
      }
    },
    {
      "cell_type": "code",
      "execution_count": 2,
      "metadata": {
        "id": "bWVb20Fad_g6"
      },
      "outputs": [],
      "source": [
        "def fire(target):\n",
        "  target.hp -= attack_damage\n",
        "def stimpack():\n",
        "  hp -= 15\n",
        "  attack_rate += 20\n",
        "\n",
        "hp = 100\n",
        "attack_damage = 10\n",
        "attack_rate = 5"
      ]
    },
    {
      "cell_type": "code",
      "source": [
        "def fire(target):\n",
        "  target.hp -= attack_damage\n",
        "def stimpack():\n",
        "  hp -= 15\n",
        "  attack_rate += 20\n",
        "\n",
        "hp = 100\n",
        "attack_damage = 10\n",
        "attack_rate = 5"
      ],
      "metadata": {
        "id": "ljMW21AXeiK1"
      },
      "execution_count": 3,
      "outputs": []
    },
    {
      "cell_type": "code",
      "source": [
        "class Marine:\n",
        "  attack_damage = 10\n",
        "  def __init__(self):\n",
        "    self.hp = 100\n",
        "    self.attack_rate = 5\n",
        "  def fire(self, target):\n",
        "    target.hp -= Marine.attack_damage\n",
        "  def stimpack(self):\n",
        "    self.hp -= 15\n",
        "    self.attack_rate += 20\n",
        "  def sayhello():\n",
        "    print('hello')"
      ],
      "metadata": {
        "id": "U0akPJ-Qe77E"
      },
      "execution_count": 4,
      "outputs": []
    },
    {
      "cell_type": "code",
      "source": [
        "m1 = Marine()\n",
        "m2 = Marine()\n",
        "\n",
        "m1.stimpack()\n",
        "m2.fire(m1)\n",
        "m1.fire(m2)\n",
        "m1.fire(m2)\n",
        "\n",
        "print(m1.hp)\n",
        "print(m2.hp)\n",
        "\n",
        "Marine.sayhello()"
      ],
      "metadata": {
        "colab": {
          "base_uri": "https://localhost:8080/"
        },
        "id": "PzzNbKazfmrY",
        "outputId": "24be1b45-9840-46a3-c472-c2bc7dbadefc"
      },
      "execution_count": 5,
      "outputs": [
        {
          "output_type": "stream",
          "name": "stdout",
          "text": [
            "75\n",
            "80\n",
            "hello\n"
          ]
        }
      ]
    },
    {
      "cell_type": "code",
      "source": [
        "m1 = Marine()\n",
        "m2 = Marine()\n",
        "Marine.attack_damage     #10\n",
        "m1.attack_damage     #10\n",
        "m2.attack_damage     #10\n",
        "Marine.attack_damage = 20\n",
        "m1.attack_damage     #20\n",
        "m2.attack_damage     #20\n",
        "m2.attack_damage = 5\n",
        "Marine.attack_damage     #20\n",
        "m1.attack_damage     #20\n",
        "m2.attack_damage     #5\n",
        "del(m2.attack_damage)"
      ],
      "metadata": {
        "id": "8XBBFRQ4fyv6"
      },
      "execution_count": 7,
      "outputs": []
    }
  ]
}