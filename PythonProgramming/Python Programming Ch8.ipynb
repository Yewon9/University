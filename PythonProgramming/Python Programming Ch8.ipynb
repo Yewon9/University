{
  "nbformat": 4,
  "nbformat_minor": 0,
  "metadata": {
    "colab": {
      "name": "Python Programming Ch8.ipynb",
      "provenance": [],
      "authorship_tag": "ABX9TyMlrpmVdjo462vfxtp5U1wj",
      "include_colab_link": true
    },
    "kernelspec": {
      "name": "python3",
      "display_name": "Python 3"
    },
    "language_info": {
      "name": "python"
    }
  },
  "cells": [
    {
      "cell_type": "markdown",
      "metadata": {
        "id": "view-in-github",
        "colab_type": "text"
      },
      "source": [
        "<a href=\"https://colab.research.google.com/github/Yewon9/PythonProgramming_SCH/blob/main/Python%20Programming%20Ch8.ipynb\" target=\"_parent\"><img src=\"https://colab.research.google.com/assets/colab-badge.svg\" alt=\"Open In Colab\"/></a>"
      ]
    },
    {
      "cell_type": "markdown",
      "source": [
        "메모리 안의 변수"
      ],
      "metadata": {
        "id": "6Bh0DDZGgo-y"
      }
    },
    {
      "cell_type": "code",
      "execution_count": 1,
      "metadata": {
        "colab": {
          "base_uri": "https://localhost:8080/"
        },
        "id": "bKg1aPkGgkPl",
        "outputId": "6737831d-420a-4b63-cfca-6a333ebd9273"
      },
      "outputs": [
        {
          "output_type": "execute_result",
          "data": {
            "text/plain": [
              "11256352"
            ]
          },
          "metadata": {},
          "execution_count": 1
        }
      ],
      "source": [
        "a = 10\n",
        "b = a\n",
        "id(a)     #10105824\n",
        "id(b)     #10105824\n",
        "b = b + 1\n",
        "id(a)     #10105824\n",
        "id(b)     #10105856\n",
        "b = b - 1\n",
        "id(b)     #10105824"
      ]
    },
    {
      "cell_type": "code",
      "source": [
        "a = [1, 2, 3]\n",
        "b = 3\n",
        "id(a)     #140530058113480\n",
        "id(a[2])     #10105888\n",
        "id(b)     #10105888\n",
        "id([1, 2, 3])     #140530058119944\n",
        "b == a[2]     #True\n",
        "b is a [2]     #True"
      ],
      "metadata": {
        "colab": {
          "base_uri": "https://localhost:8080/"
        },
        "id": "AeIVXDLqg2H1",
        "outputId": "bfae898b-a7bc-4c23-b889-195b10876b8d"
      },
      "execution_count": 2,
      "outputs": [
        {
          "output_type": "execute_result",
          "data": {
            "text/plain": [
              "True"
            ]
          },
          "metadata": {},
          "execution_count": 2
        }
      ]
    },
    {
      "cell_type": "code",
      "source": [
        "a == [1, 2, 3]     #True\n",
        "a is not [1, 2, 3]     #True\n",
        "b = a\n",
        "id(a)     #140530058113480\n",
        "id(b)     #140530058113480\n",
        "b[0] = 4\n",
        "a     #[4, 2, 3]\n",
        "b     #[4, 2, 3]"
      ],
      "metadata": {
        "colab": {
          "base_uri": "https://localhost:8080/"
        },
        "id": "_ysvNcyUhEF2",
        "outputId": "b47c336f-75d8-429b-df70-ef47d7d98512"
      },
      "execution_count": 3,
      "outputs": [
        {
          "output_type": "execute_result",
          "data": {
            "text/plain": [
              "[4, 2, 3]"
            ]
          },
          "metadata": {},
          "execution_count": 3
        }
      ]
    }
  ]
}