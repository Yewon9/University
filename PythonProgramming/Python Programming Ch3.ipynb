{
  "nbformat": 4,
  "nbformat_minor": 0,
  "metadata": {
    "colab": {
      "name": "Python Programming Ch3.ipynb",
      "provenance": [],
      "authorship_tag": "ABX9TyNEQpDSLTa/XmG+ox3H7B22",
      "include_colab_link": true
    },
    "kernelspec": {
      "name": "python3",
      "display_name": "Python 3"
    },
    "language_info": {
      "name": "python"
    }
  },
  "cells": [
    {
      "cell_type": "markdown",
      "metadata": {
        "id": "view-in-github",
        "colab_type": "text"
      },
      "source": [
        "<a href=\"https://colab.research.google.com/github/Yewon9/PythonProgramming_SCH/blob/main/Python_Programming_Ch3.ipynb\" target=\"_parent\"><img src=\"https://colab.research.google.com/assets/colab-badge.svg\" alt=\"Open In Colab\"/></a>"
      ]
    },
    {
      "cell_type": "markdown",
      "source": [
        "프로그램 제어문 : if문 (조건문)"
      ],
      "metadata": {
        "id": "ewDvEMit-GtI"
      }
    },
    {
      "cell_type": "code",
      "execution_count": 1,
      "metadata": {
        "colab": {
          "base_uri": "https://localhost:8080/"
        },
        "id": "CRy-70fZ93mQ",
        "outputId": "6efdf891-e150-4687-9d59-c47fc211e731"
      },
      "outputs": [
        {
          "output_type": "stream",
          "name": "stdout",
          "text": [
            "하하\n"
          ]
        }
      ],
      "source": [
        "a = 15\n",
        "if a > 10:\n",
        "  print(\"하하\")\n",
        "if a > 20:\n",
        "  print(\"하하\")     #print 안 됨"
      ]
    },
    {
      "cell_type": "code",
      "source": [
        "a = 15\n",
        "if a > 20:\n",
        "  print(\"하하\")\n",
        "else:\n",
        "  print(\"haha\")"
      ],
      "metadata": {
        "colab": {
          "base_uri": "https://localhost:8080/"
        },
        "id": "uOeawaFp-VDq",
        "outputId": "dc47b061-0984-4624-e709-65b1b1f3295f"
      },
      "execution_count": 2,
      "outputs": [
        {
          "output_type": "stream",
          "name": "stdout",
          "text": [
            "haha\n"
          ]
        }
      ]
    },
    {
      "cell_type": "code",
      "source": [
        "a = 15\n",
        "if a > 20:\n",
        "  print(\"하하\")\n",
        "elif a > 10:\n",
        "  print(\"haha\")\n",
        "elif a > 5:\n",
        "  print(\"^^\")\n",
        "else:\n",
        "  pass"
      ],
      "metadata": {
        "colab": {
          "base_uri": "https://localhost:8080/"
        },
        "id": "tR1E5ou4-jES",
        "outputId": "d25a91a9-36d9-4177-84f2-f23fb0dbc906"
      },
      "execution_count": 4,
      "outputs": [
        {
          "output_type": "stream",
          "name": "stdout",
          "text": [
            "haha\n"
          ]
        }
      ]
    },
    {
      "cell_type": "code",
      "source": [
        "a = 15\n",
        "b = 30\n",
        "if a > 30:\n",
        "  print(\"하하\")\n",
        "  if b > 30:\n",
        "    print(\"haha\")\n",
        "  else:\n",
        "    print(\"^^\")"
      ],
      "metadata": {
        "id": "Fd4pQPpc-1NP"
      },
      "execution_count": 8,
      "outputs": []
    },
    {
      "cell_type": "markdown",
      "source": [
        "자료형의 참/거짓"
      ],
      "metadata": {
        "id": "DuIupW8m_Lm5"
      }
    },
    {
      "cell_type": "code",
      "source": [
        "if True:\n",
        "  print(\"참\")\n",
        "a = 15\n",
        "if a:\n",
        "  print(\"참\")\n",
        "if []:\n",
        "  print(\"참\")     #print 안 됨\n",
        "a = \"abcd\"\n",
        "if a:\n",
        "  print(\"참\")"
      ],
      "metadata": {
        "colab": {
          "base_uri": "https://localhost:8080/"
        },
        "id": "1L8BZmlF-8WR",
        "outputId": "b3a6a1e2-ab2f-42af-9c89-34d8c0979dba"
      },
      "execution_count": 9,
      "outputs": [
        {
          "output_type": "stream",
          "name": "stdout",
          "text": [
            "참\n",
            "참\n",
            "참\n"
          ]
        }
      ]
    },
    {
      "cell_type": "markdown",
      "source": [
        "연산자"
      ],
      "metadata": {
        "id": "I65Tl5Dj_iNE"
      }
    },
    {
      "cell_type": "code",
      "source": [
        "a = 3\n",
        "b = 5.0\n",
        "a < b     #False\n",
        "a < b     #True\n",
        "b == 5     #True\n",
        "a != 3     #False\n",
        "a >= 3     #True\n",
        "b <= 6     #True"
      ],
      "metadata": {
        "colab": {
          "base_uri": "https://localhost:8080/"
        },
        "id": "HeSvvasZ_ZNO",
        "outputId": "abbe0206-3813-4072-bcfe-bb079c497ae6"
      },
      "execution_count": 10,
      "outputs": [
        {
          "output_type": "execute_result",
          "data": {
            "text/plain": [
              "True"
            ]
          },
          "metadata": {},
          "execution_count": 10
        }
      ]
    },
    {
      "cell_type": "code",
      "source": [
        "a = 1\n",
        "b = 2\n",
        "a + b     #3\n",
        "a += 1     #a = 2\n",
        "b *= 3     #b = 6\n",
        "b /= a     #b = 3.0\n",
        "b %= 2     #b = 1.0\n",
        "b //= 2     #b = 0.0"
      ],
      "metadata": {
        "id": "hefzfTwc_w2f"
      },
      "execution_count": 11,
      "outputs": []
    },
    {
      "cell_type": "code",
      "source": [
        "a = 3\n",
        "a == 3     #True"
      ],
      "metadata": {
        "colab": {
          "base_uri": "https://localhost:8080/"
        },
        "id": "C7A92gf-_82T",
        "outputId": "aa2e840e-b362-4392-c892-48ef600f72bb"
      },
      "execution_count": 12,
      "outputs": [
        {
          "output_type": "execute_result",
          "data": {
            "text/plain": [
              "True"
            ]
          },
          "metadata": {},
          "execution_count": 12
        }
      ]
    },
    {
      "cell_type": "code",
      "source": [
        "a = 3\n",
        "b = 5\n",
        "a == 3 and b == 5     #True\n",
        "a == 5 or b == 5     #True\n",
        "not a == 3     #False\n",
        "not a == 3 and b == 5     #False"
      ],
      "metadata": {
        "colab": {
          "base_uri": "https://localhost:8080/"
        },
        "id": "XkQpONL0AB3_",
        "outputId": "f67be3dd-c962-45ca-9827-eae497c4118e"
      },
      "execution_count": 13,
      "outputs": [
        {
          "output_type": "execute_result",
          "data": {
            "text/plain": [
              "False"
            ]
          },
          "metadata": {},
          "execution_count": 13
        }
      ]
    },
    {
      "cell_type": "code",
      "source": [
        "a = \"abc\"\n",
        "a == \"abc\"     #True\n",
        "a < \"abd\"     #True\n",
        "a <= \"abcd\"     #True\n",
        "a < \"abc \"     #True\n",
        "'a' in a and 'c' in a     #True\n",
        "'ab' not in a     #False"
      ],
      "metadata": {
        "colab": {
          "base_uri": "https://localhost:8080/"
        },
        "id": "ygvieFDnAN1a",
        "outputId": "ab2f51f7-5630-48fa-c80b-3d0988a1e3fa"
      },
      "execution_count": 14,
      "outputs": [
        {
          "output_type": "execute_result",
          "data": {
            "text/plain": [
              "False"
            ]
          },
          "metadata": {},
          "execution_count": 14
        }
      ]
    },
    {
      "cell_type": "code",
      "source": [
        "c = [4, 5, 6]\n",
        "b = 5\n",
        "b in c     #True\n",
        "b not in c     #False\n",
        "b is c[1]     #True"
      ],
      "metadata": {
        "colab": {
          "base_uri": "https://localhost:8080/"
        },
        "id": "XUCqKuJvAaEd",
        "outputId": "162e2412-7dfd-4a2a-c10a-bd58646deffa"
      },
      "execution_count": 15,
      "outputs": [
        {
          "output_type": "execute_result",
          "data": {
            "text/plain": [
              "True"
            ]
          },
          "metadata": {},
          "execution_count": 15
        }
      ]
    },
    {
      "cell_type": "code",
      "source": [
        "b is not c[1]     #False\n",
        "c is [4, 5, 6]     #False\n",
        "c == [4, 5, 6]     #True"
      ],
      "metadata": {
        "colab": {
          "base_uri": "https://localhost:8080/"
        },
        "id": "1r-S7Cj1Ag1R",
        "outputId": "ffae6a54-fdfa-4698-ab00-a5a53a0a6870"
      },
      "execution_count": 16,
      "outputs": [
        {
          "output_type": "execute_result",
          "data": {
            "text/plain": [
              "True"
            ]
          },
          "metadata": {},
          "execution_count": 16
        }
      ]
    },
    {
      "cell_type": "code",
      "source": [
        "a = \"123\"\n",
        "b = 123\n",
        "a == b     #Error"
      ],
      "metadata": {
        "id": "OtzfbfBzAxNi"
      },
      "execution_count": null,
      "outputs": []
    },
    {
      "cell_type": "code",
      "source": [
        "3 + 5 * 3     #18\n",
        "3 - 5 / 5 + 7     #9.0\n",
        "3 - 4 / (5 + 3)     #2.5\n",
        "10 / 5 == 4 / 2     #True\n",
        "10 / (5 == 5) / 2     #5.0\n",
        "3 ** 2 * 3     #27\n",
        "3 * 2 ** 3     #24\n",
        "2 / 5 % 3     #0.4\n",
        "2 / 5 // 3     #0.0"
      ],
      "metadata": {
        "colab": {
          "base_uri": "https://localhost:8080/"
        },
        "id": "9YFwQDtTA4Je",
        "outputId": "216a755e-b785-4e39-9bda-3930991f363b"
      },
      "execution_count": 18,
      "outputs": [
        {
          "output_type": "execute_result",
          "data": {
            "text/plain": [
              "0.0"
            ]
          },
          "metadata": {},
          "execution_count": 18
        }
      ]
    },
    {
      "cell_type": "code",
      "source": [
        "\"aa\" + \"bb\"     #'aabb'\n",
        "\"aa\" < \"ab\"     #True\n",
        "\"aaaa\" < \"ab\"     #True\n",
        "\"ab\" < \"aba\"     #True\n",
        "\"ab\" * 3     #'ababab'\n",
        "\"ab\" * 3 - 1     #TypeError\n",
        "\"ab\" * (3 - 1)     #'abab'\n",
        "{\"a\" : 123, \"b\" : 456} + {\"c\" : 789}     #TypeError\n",
        "{\"a\" : 123, \"b\" : 456} < {\"c\" : 789}     #TypeError"
      ],
      "metadata": {
        "colab": {
          "base_uri": "https://localhost:8080/",
          "height": 245
        },
        "id": "WuYyAfggBQIK",
        "outputId": "81c0342a-dce4-40c3-ff70-0ca2256cf22d"
      },
      "execution_count": 21,
      "outputs": [
        {
          "output_type": "error",
          "ename": "TypeError",
          "evalue": "ignored",
          "traceback": [
            "\u001b[0;31m---------------------------------------------------------------------------\u001b[0m",
            "\u001b[0;31mTypeError\u001b[0m                                 Traceback (most recent call last)",
            "\u001b[0;32m<ipython-input-21-cff0eeffe61f>\u001b[0m in \u001b[0;36m<module>\u001b[0;34m()\u001b[0m\n\u001b[1;32m      4\u001b[0m \u001b[0;34m\"ab\"\u001b[0m \u001b[0;34m<\u001b[0m \u001b[0;34m\"aba\"\u001b[0m     \u001b[0;31m#True\u001b[0m\u001b[0;34m\u001b[0m\u001b[0;34m\u001b[0m\u001b[0m\n\u001b[1;32m      5\u001b[0m \u001b[0;34m\"ab\"\u001b[0m \u001b[0;34m*\u001b[0m \u001b[0;36m3\u001b[0m     \u001b[0;31m#'ababab'\u001b[0m\u001b[0;34m\u001b[0m\u001b[0;34m\u001b[0m\u001b[0m\n\u001b[0;32m----> 6\u001b[0;31m \u001b[0;34m\"ab\"\u001b[0m \u001b[0;34m*\u001b[0m \u001b[0;36m3\u001b[0m \u001b[0;34m-\u001b[0m \u001b[0;36m1\u001b[0m     \u001b[0;31m#TypeError\u001b[0m\u001b[0;34m\u001b[0m\u001b[0;34m\u001b[0m\u001b[0m\n\u001b[0m\u001b[1;32m      7\u001b[0m \u001b[0;34m\"ab\"\u001b[0m \u001b[0;34m*\u001b[0m \u001b[0;34m(\u001b[0m\u001b[0;36m3\u001b[0m \u001b[0;34m-\u001b[0m \u001b[0;36m1\u001b[0m\u001b[0;34m)\u001b[0m     \u001b[0;31m#'abab'\u001b[0m\u001b[0;34m\u001b[0m\u001b[0;34m\u001b[0m\u001b[0m\n\u001b[1;32m      8\u001b[0m \u001b[0;34m{\u001b[0m\u001b[0;34m\"a\"\u001b[0m \u001b[0;34m:\u001b[0m \u001b[0;36m123\u001b[0m\u001b[0;34m,\u001b[0m \u001b[0;34m\"b\"\u001b[0m \u001b[0;34m:\u001b[0m \u001b[0;36m456\u001b[0m\u001b[0;34m}\u001b[0m \u001b[0;34m+\u001b[0m \u001b[0;34m{\u001b[0m\u001b[0;34m\"c\"\u001b[0m \u001b[0;34m:\u001b[0m \u001b[0;36m789\u001b[0m\u001b[0;34m}\u001b[0m     \u001b[0;31m#TypeError\u001b[0m\u001b[0;34m\u001b[0m\u001b[0;34m\u001b[0m\u001b[0m\n",
            "\u001b[0;31mTypeError\u001b[0m: unsupported operand type(s) for -: 'str' and 'int'"
          ]
        }
      ]
    },
    {
      "cell_type": "code",
      "source": [
        "[a, b] = ['123', '345']     #a = '123', b = '345'\n",
        "a, b = b, a     #a = '345', b = '123'\n",
        "[a, (b, c)] = [123, (456, 789)]     #a = 123, b = 456, c = 789\n",
        "[123, (456, 789)] = [a, (b, c)]     #SyntaxError\n",
        "a = b = c = 1     #a = 1, b = 1, c = 1\n",
        "a = (b, c) = (123, 456)     #a = (123, 456), b = 123, c = 456"
      ],
      "metadata": {
        "colab": {
          "base_uri": "https://localhost:8080/",
          "height": 136
        },
        "id": "kvVOVSiuBr2M",
        "outputId": "37b91a92-228d-4e27-d317-b466f64449f4"
      },
      "execution_count": 23,
      "outputs": [
        {
          "output_type": "error",
          "ename": "SyntaxError",
          "evalue": "ignored",
          "traceback": [
            "\u001b[0;36m  File \u001b[0;32m\"<ipython-input-23-0565ac017f39>\"\u001b[0;36m, line \u001b[0;32m4\u001b[0m\n\u001b[0;31m    [123, (456, 789)] = [a, (b, c)]     #SyntaxError\u001b[0m\n\u001b[0m                                                    ^\u001b[0m\n\u001b[0;31mSyntaxError\u001b[0m\u001b[0;31m:\u001b[0m can't assign to literal\n"
          ]
        }
      ]
    },
    {
      "cell_type": "markdown",
      "source": [
        "연산자 : 비트(bit) 연산자"
      ],
      "metadata": {
        "id": "XNtZgOdYCSIX"
      }
    },
    {
      "cell_type": "code",
      "source": [
        "a = 3\n",
        "b = 5\n",
        "print(bin(a))     #'0b11'\n",
        "bin(b)     #'0b101'\n",
        "a & b     #1\n",
        "bin(a & b)     #'0b1'\n",
        "bin(a | b)     #'0b111'\n",
        "bin(a ^ b)     #'0b110'\n",
        "bin(~a)     #'-0b100'"
      ],
      "metadata": {
        "colab": {
          "base_uri": "https://localhost:8080/",
          "height": 54
        },
        "id": "_p-Xhk9WCOZA",
        "outputId": "fb4aaf1d-6f07-4553-f1b7-5f428e51ab84"
      },
      "execution_count": 24,
      "outputs": [
        {
          "output_type": "stream",
          "name": "stdout",
          "text": [
            "0b11\n"
          ]
        },
        {
          "output_type": "execute_result",
          "data": {
            "text/plain": [
              "'-0b100'"
            ],
            "application/vnd.google.colaboratory.intrinsic+json": {
              "type": "string"
            }
          },
          "metadata": {},
          "execution_count": 24
        }
      ]
    },
    {
      "cell_type": "code",
      "source": [
        "bin(a << 2)     #'0b1100'\n",
        "bin(b >> 1)     #'0b10'\n",
        "bin(b >> 5)     #'0b0'\n",
        "\"{:08b}\".format(a)     #'00000011'\n",
        "\"{:08b}\".format(b)     #'00000101'\n",
        "\"{:08b}\".format(a + b)     #'00001000'"
      ],
      "metadata": {
        "colab": {
          "base_uri": "https://localhost:8080/",
          "height": 35
        },
        "id": "RaNvkYTzCmbW",
        "outputId": "e252bf8b-8163-4828-9e22-37fd72b5ff83"
      },
      "execution_count": 26,
      "outputs": [
        {
          "output_type": "execute_result",
          "data": {
            "text/plain": [
              "'00001000'"
            ],
            "application/vnd.google.colaboratory.intrinsic+json": {
              "type": "string"
            }
          },
          "metadata": {},
          "execution_count": 26
        }
      ]
    }
  ]
}
